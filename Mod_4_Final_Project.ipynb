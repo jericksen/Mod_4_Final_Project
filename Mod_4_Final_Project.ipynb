{
 "cells": [
  {
   "cell_type": "markdown",
   "metadata": {},
   "source": [
    "# Module Four Final Project\n",
    "\n",
    "For: Trace Political, LLC\n",
    "\n",
    "By: Jonathan E. Ericksen, JE Consulting\n",
    "\n",
    "## Background\n",
    "> Trace Political is a consulting firm that specializes in social media consulting for congressional campaigns. Trace Political has contracted with JE Consulting to run an analysis on ~86K tweets from sitting congressional representatives. The tweets were acquired from May 2018 and are expected to yield valuable insights into the social media behavior and trends from current elected officials. \n",
    "\n",
    "## Objective:\n",
    "The objective for JE Consulting is two fold: \n",
    "\n",
    ">- **Objective One: Corpus Analysis**\n",
    "    - Extract the top 10 most words used within tweets from both Democrat and Republican representatives\n",
    "    - Extract the total vocab count used in both the Democrat and Republican tweet corpus'\n",
    "    - Extract words with the highest semantic relation to the following through word vectorization: \n",
    "        - Trump\n",
    "        - Bill\n",
    "        - Tax\n",
    "    - Using TextBlob, extract the sentiment rating for Democrat and Republican tweets\n",
    "\n",
    ">- **Objective Two: Tweet Classification using Neural Networks**\n",
    "    - In addition to corpus analysis, Trace Political has asked JE Consulting to suss out the feasibility of building a classifier using neural networks that successfully predicts the political party of which the author of an official tweet belongs. In order to be deemed successful, the model must successfully predict political party with 90% accuracy on test data. Should this succeed, Trace Political will further pursue projects related to predictive modeling with natural language processing.\n",
    "\n",
    "## Question:\n",
    "> Can a neural network successfully classify political affiliation based on language contained in official tweets from the available dataset?\n",
    "\n",
    "## Methodology:\n",
    "\n",
    "> This project is broken down in to two parts. Part One will will address the first objective which is to perform basic analysis of the text corpus contained within tweets from the dataset. Part Two will attempt to model the text data resulting in successful party classification. Part Two will finish with a conclusion based upon the attempted modeling along with recommendations for future work to enhance model performances, et cetera. The sections and sub-sections are outlined in the table of contents below.\n",
    "\n",
    "## Table of Contents:<a id='top'></a>\n",
    "### [Obtain](#obtain): \n",
    "> - Sourcing the Data\n",
    "> - Importing Data\n",
    "\n",
    "### [Part One](#partone)\n",
    "\n",
    "> - Exploratory Data Analysis \n",
    "> - Number of Tweets By Party\n",
    "> - Common Words by Party\n",
    "> - Vocab Length\n",
    "> - Semantic Relationships\n",
    "> - Sentiment Analysis\n",
    "\n",
    "### [Part Two](#parttwo)\n",
    "\n",
    "> - Feature Engineering\n",
    "    - Data Cleaning\n",
    "    - Convert Labels to Integers\n",
    "    - Tokenize Text\n",
    "    - Padding Input Matrices\n",
    "    - Train Test Split\n",
    "> - Modeling\n",
    "    - LSTM Model One\n",
    "    - LSTM Model Two\n",
    "    - LSTM Model Three\n",
    "    - GRU Model One\n",
    "    \n",
    "> **[Conclusions](#conclusion)**\n",
    "\n",
    "> **[Recommendations](#recommendation)**\n",
    "\n",
    "> **[Future Work](#futurework)**\n",
    "\n",
    "------------------------------------------------------------------------------------------------------------------"
   ]
  },
  {
   "cell_type": "markdown",
   "metadata": {},
   "source": [
    "Before we begin, let's import the necessary libraries for our project: "
   ]
  },
  {
   "cell_type": "code",
   "execution_count": 1,
   "metadata": {},
   "outputs": [
    {
     "name": "stderr",
     "output_type": "stream",
     "text": [
      "[nltk_data] Downloading package wordnet to\n",
      "[nltk_data]     /Users/jonathanericksen/nltk_data...\n",
      "[nltk_data]   Package wordnet is already up-to-date!\n",
      "Using TensorFlow backend.\n"
     ]
    }
   ],
   "source": [
    "import pandas as pd\n",
    "\n",
    "import numpy as np\n",
    "from numpy import array\n",
    "from numpy import asarray\n",
    "from numpy import zeros\n",
    "\n",
    "import string\n",
    "\n",
    "import re\n",
    "import nltk as nlp\n",
    "from nltk.corpus import stopwords\n",
    "from nltk import word_tokenize\n",
    "from nltk.probability import FreqDist\n",
    "nlp.download('wordnet')\n",
    "\n",
    "import matplotlib.pyplot as plt\n",
    "import seaborn as sns\n",
    "plt.style.use('seaborn')\n",
    "\n",
    "import keras\n",
    "from keras.preprocessing.text import one_hot\n",
    "from keras.preprocessing.sequence import pad_sequences\n",
    "from keras.models import Sequential\n",
    "from keras.layers import Activation, Dropout, Dense, LSTM, GRU\n",
    "from keras.layers import Flatten\n",
    "from keras.layers import GlobalMaxPooling1D\n",
    "from keras.layers.embeddings import Embedding\n",
    "from keras.preprocessing.text import Tokenizer\n",
    "from keras.layers import LSTM, GRU, Dense, GlobalMaxPool1D, Embedding, Dropout\n",
    "from keras.preprocessing import text, sequence\n",
    "from keras import regularizers\n",
    "\n",
    "from sklearn.preprocessing import OneHotEncoder\n",
    "from sklearn.manifold import TSNE\n",
    "from sklearn.model_selection import train_test_split\n",
    "from sklearn.decomposition import PCA\n",
    "\n",
    "import gensim\n",
    "from gensim.models import Word2Vec\n",
    "\n",
    "from textblob import TextBlob\n",
    "\n",
    "import warnings; warnings.simplefilter('ignore')"
   ]
  },
  {
   "cell_type": "markdown",
   "metadata": {},
   "source": [
    "### Obtain <a id='obtain'></a>\n",
    "\n",
    "[Back to top](#top)\n",
    "\n",
    "The data used for this project comes from Kaggle and includes a sampling of ~86k tweets sent from both Democratic and Republican representatives in the U.S. congress during May 2018. The dataset can be found here: https://www.kaggle.com/kapastor/democratvsrepublicantweets \n",
    "\n",
    "Let's lod the CSV file from kaggle into a pandas dataframe: "
   ]
  },
  {
   "cell_type": "code",
   "execution_count": 2,
   "metadata": {},
   "outputs": [],
   "source": [
    "df = pd.read_csv('ExtractedTweets.csv')"
   ]
  },
  {
   "cell_type": "markdown",
   "metadata": {},
   "source": [
    "--------------------------------------------------------------------------------------------------------------------\n",
    "--------------------------------------------------------------------------------------------------------------------\n",
    "# *Part One*<a id='partone'></a>\n",
    "\n",
    "[Back to top](#top)\n",
    "\n",
    "### Explatory Data Analysis\n",
    "\n",
    "We'll begin our exploratory analysis by reviewing the head and tail of the dataset:"
   ]
  },
  {
   "cell_type": "code",
   "execution_count": 3,
   "metadata": {
    "scrolled": false
   },
   "outputs": [
    {
     "data": {
      "text/html": [
       "<div>\n",
       "<style scoped>\n",
       "    .dataframe tbody tr th:only-of-type {\n",
       "        vertical-align: middle;\n",
       "    }\n",
       "\n",
       "    .dataframe tbody tr th {\n",
       "        vertical-align: top;\n",
       "    }\n",
       "\n",
       "    .dataframe thead th {\n",
       "        text-align: right;\n",
       "    }\n",
       "</style>\n",
       "<table border=\"1\" class=\"dataframe\">\n",
       "  <thead>\n",
       "    <tr style=\"text-align: right;\">\n",
       "      <th></th>\n",
       "      <th>Party</th>\n",
       "      <th>Handle</th>\n",
       "      <th>Tweet</th>\n",
       "    </tr>\n",
       "  </thead>\n",
       "  <tbody>\n",
       "    <tr>\n",
       "      <th>0</th>\n",
       "      <td>Democrat</td>\n",
       "      <td>RepDarrenSoto</td>\n",
       "      <td>Today, Senate Dems vote to #SaveTheInternet. P...</td>\n",
       "    </tr>\n",
       "    <tr>\n",
       "      <th>1</th>\n",
       "      <td>Democrat</td>\n",
       "      <td>RepDarrenSoto</td>\n",
       "      <td>RT @WinterHavenSun: Winter Haven resident / Al...</td>\n",
       "    </tr>\n",
       "    <tr>\n",
       "      <th>2</th>\n",
       "      <td>Democrat</td>\n",
       "      <td>RepDarrenSoto</td>\n",
       "      <td>RT @NBCLatino: .@RepDarrenSoto noted that Hurr...</td>\n",
       "    </tr>\n",
       "    <tr>\n",
       "      <th>3</th>\n",
       "      <td>Democrat</td>\n",
       "      <td>RepDarrenSoto</td>\n",
       "      <td>RT @NALCABPolicy: Meeting with @RepDarrenSoto ...</td>\n",
       "    </tr>\n",
       "    <tr>\n",
       "      <th>4</th>\n",
       "      <td>Democrat</td>\n",
       "      <td>RepDarrenSoto</td>\n",
       "      <td>RT @Vegalteno: Hurricane season starts on June...</td>\n",
       "    </tr>\n",
       "  </tbody>\n",
       "</table>\n",
       "</div>"
      ],
      "text/plain": [
       "      Party         Handle                                              Tweet\n",
       "0  Democrat  RepDarrenSoto  Today, Senate Dems vote to #SaveTheInternet. P...\n",
       "1  Democrat  RepDarrenSoto  RT @WinterHavenSun: Winter Haven resident / Al...\n",
       "2  Democrat  RepDarrenSoto  RT @NBCLatino: .@RepDarrenSoto noted that Hurr...\n",
       "3  Democrat  RepDarrenSoto  RT @NALCABPolicy: Meeting with @RepDarrenSoto ...\n",
       "4  Democrat  RepDarrenSoto  RT @Vegalteno: Hurricane season starts on June..."
      ]
     },
     "metadata": {},
     "output_type": "display_data"
    },
    {
     "data": {
      "text/html": [
       "<div>\n",
       "<style scoped>\n",
       "    .dataframe tbody tr th:only-of-type {\n",
       "        vertical-align: middle;\n",
       "    }\n",
       "\n",
       "    .dataframe tbody tr th {\n",
       "        vertical-align: top;\n",
       "    }\n",
       "\n",
       "    .dataframe thead th {\n",
       "        text-align: right;\n",
       "    }\n",
       "</style>\n",
       "<table border=\"1\" class=\"dataframe\">\n",
       "  <thead>\n",
       "    <tr style=\"text-align: right;\">\n",
       "      <th></th>\n",
       "      <th>Party</th>\n",
       "      <th>Handle</th>\n",
       "      <th>Tweet</th>\n",
       "    </tr>\n",
       "  </thead>\n",
       "  <tbody>\n",
       "    <tr>\n",
       "      <th>86455</th>\n",
       "      <td>Republican</td>\n",
       "      <td>RepTomPrice</td>\n",
       "      <td>Check out my op-ed on need for End Executive O...</td>\n",
       "    </tr>\n",
       "    <tr>\n",
       "      <th>86456</th>\n",
       "      <td>Republican</td>\n",
       "      <td>RepTomPrice</td>\n",
       "      <td>Yesterday, Betty &amp;amp; I had a great time lear...</td>\n",
       "    </tr>\n",
       "    <tr>\n",
       "      <th>86457</th>\n",
       "      <td>Republican</td>\n",
       "      <td>RepTomPrice</td>\n",
       "      <td>We are forever grateful for the service and sa...</td>\n",
       "    </tr>\n",
       "    <tr>\n",
       "      <th>86458</th>\n",
       "      <td>Republican</td>\n",
       "      <td>RepTomPrice</td>\n",
       "      <td>Happy first day of school @CobbSchools! #CobbB...</td>\n",
       "    </tr>\n",
       "    <tr>\n",
       "      <th>86459</th>\n",
       "      <td>Republican</td>\n",
       "      <td>RepTomPrice</td>\n",
       "      <td>#Zika fears realized in Florida. House GOP act...</td>\n",
       "    </tr>\n",
       "  </tbody>\n",
       "</table>\n",
       "</div>"
      ],
      "text/plain": [
       "            Party       Handle  \\\n",
       "86455  Republican  RepTomPrice   \n",
       "86456  Republican  RepTomPrice   \n",
       "86457  Republican  RepTomPrice   \n",
       "86458  Republican  RepTomPrice   \n",
       "86459  Republican  RepTomPrice   \n",
       "\n",
       "                                                   Tweet  \n",
       "86455  Check out my op-ed on need for End Executive O...  \n",
       "86456  Yesterday, Betty &amp; I had a great time lear...  \n",
       "86457  We are forever grateful for the service and sa...  \n",
       "86458  Happy first day of school @CobbSchools! #CobbB...  \n",
       "86459  #Zika fears realized in Florida. House GOP act...  "
      ]
     },
     "metadata": {},
     "output_type": "display_data"
    }
   ],
   "source": [
    "display(df.head())\n",
    "display(df.tail())"
   ]
  },
  {
   "cell_type": "markdown",
   "metadata": {},
   "source": [
    "Let's confirm there are no null values:"
   ]
  },
  {
   "cell_type": "code",
   "execution_count": 4,
   "metadata": {
    "cell_style": "center"
   },
   "outputs": [
    {
     "data": {
      "text/plain": [
       "Party     0\n",
       "Handle    0\n",
       "Tweet     0\n",
       "dtype: int64"
      ]
     },
     "metadata": {},
     "output_type": "display_data"
    }
   ],
   "source": [
    "display(df.isnull().sum())"
   ]
  },
  {
   "cell_type": "markdown",
   "metadata": {},
   "source": [
    "Check the shape of the dataset:"
   ]
  },
  {
   "cell_type": "code",
   "execution_count": 5,
   "metadata": {},
   "outputs": [
    {
     "data": {
      "text/plain": [
       "(86460, 3)"
      ]
     },
     "execution_count": 5,
     "metadata": {},
     "output_type": "execute_result"
    }
   ],
   "source": [
    "df.shape"
   ]
  },
  {
   "cell_type": "markdown",
   "metadata": {},
   "source": [
    "And look at the first 5 full tweets: "
   ]
  },
  {
   "cell_type": "code",
   "execution_count": 6,
   "metadata": {
    "scrolled": true
   },
   "outputs": [
    {
     "data": {
      "text/plain": [
       "'Today, Senate Dems vote to #SaveTheInternet. Proud to support similar #NetNeutrality legislation here in the House… https://t.co/n3tggDLU1L'"
      ]
     },
     "metadata": {},
     "output_type": "display_data"
    },
    {
     "data": {
      "text/plain": [
       "'RT @WinterHavenSun: Winter Haven resident / Alta Vista teacher is one of several recognized by @RepDarrenSoto for National Teacher Apprecia…'"
      ]
     },
     "metadata": {},
     "output_type": "display_data"
    },
    {
     "data": {
      "text/plain": [
       "'RT @NBCLatino: .@RepDarrenSoto noted that Hurricane Maria has left approximately $90 billion in damages. \\n\\nCongress has allocated about $18…'"
      ]
     },
     "metadata": {},
     "output_type": "display_data"
    },
    {
     "data": {
      "text/plain": [
       "'RT @NALCABPolicy: Meeting with @RepDarrenSoto . Thanks for taking the time to meet with @LatinoLeader ED Marucci Guzman. #NALCABPolicy2018.…'"
      ]
     },
     "metadata": {},
     "output_type": "display_data"
    },
    {
     "data": {
      "text/plain": [
       "'RT @Vegalteno: Hurricane season starts on June 1st; Puerto Rico’s readiness...well 🤦🏼\\u200d♂️😡😩@Pwr4PuertoRico @RepDarrenSoto @EspaillatNY'"
      ]
     },
     "metadata": {},
     "output_type": "display_data"
    }
   ],
   "source": [
    "display(df['Tweet'][0])\n",
    "display(df['Tweet'][1])\n",
    "display(df['Tweet'][2])\n",
    "display(df['Tweet'][3])\n",
    "display(df['Tweet'][4])"
   ]
  },
  {
   "cell_type": "markdown",
   "metadata": {},
   "source": [
    "### Number of Tweets by Party"
   ]
  },
  {
   "cell_type": "markdown",
   "metadata": {},
   "source": [
    "To find the number of tweets in our dataset per party, we'll begin by parsing out the democrat vs. republican tweets:"
   ]
  },
  {
   "cell_type": "code",
   "execution_count": 7,
   "metadata": {},
   "outputs": [],
   "source": [
    "democrat = df[(df['Party'] == 'Democrat')]\n",
    "republican = df[(df['Party'] == 'Republican')]"
   ]
  },
  {
   "cell_type": "markdown",
   "metadata": {},
   "source": [
    "Let's see how many representatives have tweeted during May 2018 by party:"
   ]
  },
  {
   "cell_type": "code",
   "execution_count": 8,
   "metadata": {
    "scrolled": true
   },
   "outputs": [
    {
     "name": "stdout",
     "output_type": "stream",
     "text": [
      "Number of representatives using twitter during May 2018 is as follows:\n",
      "\n",
      "Democrats: 211\n",
      "Republicans: 222\n"
     ]
    }
   ],
   "source": [
    "print('Number of representatives using twitter during May 2018 is as follows:')\n",
    "print()\n",
    "print('Democrats: {}'.format(democrat['Handle'].nunique()))\n",
    "print('Republicans: {}'.format(republican['Handle'].nunique()))"
   ]
  },
  {
   "cell_type": "markdown",
   "metadata": {},
   "source": [
    "And the number of tweets by party our dataset contains: "
   ]
  },
  {
   "cell_type": "code",
   "execution_count": 9,
   "metadata": {},
   "outputs": [
    {
     "name": "stdout",
     "output_type": "stream",
     "text": [
      "Number of Democratic tweets: 42068\n",
      "Number of Republican tweets: 44392\n"
     ]
    }
   ],
   "source": [
    "dem_tweets = democrat['Handle'].count()\n",
    "rep_tweets = republican['Handle'].count()\n",
    "\n",
    "print('Number of Democratic tweets:', dem_tweets)\n",
    "print('Number of Republican tweets:', rep_tweets)"
   ]
  },
  {
   "cell_type": "markdown",
   "metadata": {},
   "source": [
    "Finally, we'll visualize the tweet volumes using the seaborn countplot:"
   ]
  },
  {
   "cell_type": "code",
   "execution_count": 10,
   "metadata": {
    "scrolled": false
   },
   "outputs": [
    {
     "data": {
      "image/png": "[encoded data removed]",
      "text/plain": [
       "<Figure size 432x432 with 1 Axes>"
      ]
     },
     "metadata": {
      "needs_background": "light"
     },
     "output_type": "display_data"
    }
   ],
   "source": [
    "plt.figure(figsize=(6,6))\n",
    "sns.countplot(x = 'Party', data = df, palette='Purples')\n",
    "\n",
    "plt.title('Total Tweets by Party', size = 17)\n",
    "plt.ylabel('Count', size = 15)\n",
    "plt.xlabel('Party', size = 15)\n",
    "plt.ylim(35000, 45000)\n",
    "\n",
    "plt.xticks(size = 13)\n",
    "plt.yticks(size = 13);"
   ]
  },
  {
   "cell_type": "markdown",
   "metadata": {},
   "source": [
    "### Common Words by Party\n",
    "\n",
    "For analyzing common words by party, we'll need to clean the dataset. We'll begin by establishing a list of stopwords that we'll filter from the text data:"
   ]
  },
  {
   "cell_type": "code",
   "execution_count": 11,
   "metadata": {},
   "outputs": [],
   "source": [
    "stopwords = stopwords.words('english')\n",
    "stopwords += ['rt', 'u', 'amp', 'w', 'th']\n",
    "stopwords += ['0', '1', '2', '3', '4', '5', '6', '7', '8', '9']"
   ]
  },
  {
   "cell_type": "markdown",
   "metadata": {},
   "source": [
    "Next, we'll write a for loop that iterates through the parties' respective tweets and cleans them by removing special characters, punctuation, the stopwords listed above, et cetera. The comments in the below indicate what each line of for loop is accomplishing:"
   ]
  },
  {
   "cell_type": "code",
   "execution_count": 12,
   "metadata": {},
   "outputs": [],
   "source": [
    "democrat_list = []\n",
    "\n",
    "for d in democrat.Tweet:\n",
    "    \n",
    "    d = re.sub(r'http\\S+', '', d) # For removing links\n",
    "    d = re.sub(\"[^a-zA-Z]\", \" \", d) # For removing all characters except letters\n",
    "    d = d.lower() # For converting all words to lowercase\n",
    "    \n",
    "    d = nlp.word_tokenize(d) # Tokenizing the words in our corpus\n",
    "    d = [word for word in d if not word in set(stopwords)] #\n",
    "    \n",
    "    lemma = nlp.WordNetLemmatizer() \n",
    "    d = [lemma.lemmatize(word) for word in d] # For consolidating multiple words of a single form ('running', 'ran' --> 'run')\n",
    "    d = \" \".join(d)\n",
    "    \n",
    "    democrat_list.append(d) # Append the words to our 'democrat_list'"
   ]
  },
  {
   "cell_type": "code",
   "execution_count": 13,
   "metadata": {},
   "outputs": [],
   "source": [
    "republican_list = []\n",
    "\n",
    "for r in republican.Tweet:\n",
    "    \n",
    "    r = re.sub(r'http\\S+', '', r)\n",
    "    r = re.sub(\"[^a-zA-Z]\", \" \", r)\n",
    "    r = r.lower()\n",
    "    \n",
    "    r = nlp.word_tokenize(r)\n",
    "    r = [word for word in r if not word in set(stopwords)]\n",
    "   \n",
    "    lemma=nlp.WordNetLemmatizer()\n",
    "    r = [lemma.lemmatize(word) for word in r]\n",
    "    r = \" \".join(r)\n",
    "    \n",
    "    republican_list.append(r)"
   ]
  },
  {
   "cell_type": "markdown",
   "metadata": {},
   "source": [
    "Let's view our cleaned democrat and republican tweets: "
   ]
  },
  {
   "cell_type": "code",
   "execution_count": 15,
   "metadata": {},
   "outputs": [
    {
     "data": {
      "text/plain": [
       "['today senate dems vote savetheinternet proud support similar netneutrality legislation house',\n",
       " 'winterhavensun winter resident alta vista teacher one several recognized repdarrensoto national teacher apprecia',\n",
       " 'nbclatino repdarrensoto noted hurricane maria left approximately billion damage congress allocated',\n",
       " 'nalcabpolicy meeting repdarrensoto thanks taking time meet latinoleader ed marucci guzman nalcabpolicy',\n",
       " 'vegalteno hurricane season start june st puerto rico readiness well pwr puertorico repdarrensoto espaillatny']"
      ]
     },
     "execution_count": 15,
     "metadata": {},
     "output_type": "execute_result"
    }
   ],
   "source": [
    "democrat_list[:5]"
   ]
  },
  {
   "cell_type": "code",
   "execution_count": 16,
   "metadata": {},
   "outputs": [
    {
     "data": {
      "text/plain": [
       "['wastefulwednesday today introduced bill would eliminate global climate change initiative gc',\n",
       " 'today honored heroic men woman law enforcement lost life line duty nati',\n",
       " 'congressmanraja last week repralphnorman hosted briefing economic benefit solar energy production',\n",
       " 'tegacaypd chief parker thankful receive recognition repralphnorman delivered mayor davidloneal national police',\n",
       " 'visited sc highway patrol bring cupcake thank service honor']"
      ]
     },
     "execution_count": 16,
     "metadata": {},
     "output_type": "execute_result"
    }
   ],
   "source": [
    "republican_list[:5]"
   ]
  },
  {
   "cell_type": "markdown",
   "metadata": {},
   "source": [
    "One way to get a count of the total number of cleaned words in our corpus by party is to .split() the list of words in our lists and replace the commas with spaces:"
   ]
  },
  {
   "cell_type": "code",
   "execution_count": 17,
   "metadata": {},
   "outputs": [],
   "source": [
    "democrat_tweets = str(democrat_list).split()\n",
    "republican_tweets = str(republican_list).split()\n",
    "\n",
    "democrat_tweets = [word.replace(\"'\",\"\") for word in democrat_tweets]\n",
    "democrat_tweets = [word.replace(\"[\", \"\") for word in democrat_tweets]\n",
    "democrat_tweets = [word.replace(\"]\",\"\") for word in democrat_tweets]\n",
    "democrat_tweets = [word.replace(\",\", \"\") for word in democrat_tweets]\n",
    "\n",
    "republican_tweets = [word.replace(\"'\",\"\") for word in republican_tweets]\n",
    "republican_tweets = [word.replace(\"[\", \"\") for word in republican_tweets]\n",
    "republican_tweets = [word.replace(\"]\",\"\") for word in republican_tweets]\n",
    "republican_tweets = [word.replace(\",\", \"\") for word in republican_tweets]"
   ]
  },
  {
   "cell_type": "code",
   "execution_count": 18,
   "metadata": {},
   "outputs": [
    {
     "name": "stdout",
     "output_type": "stream",
     "text": [
      "Total words in Democratic tweets: 443138\n",
      "Total words in Republican tweets: 457293\n"
     ]
    }
   ],
   "source": [
    "print(\"Total words in Democratic tweets:\",len(democrat_tweets))\n",
    "print(\"Total words in Republican tweets:\",len(republican_tweets))"
   ]
  },
  {
   "cell_type": "markdown",
   "metadata": {},
   "source": [
    "In order to extract the most common words used by republican and democratic representatives, we'll build a frequency distribution that extracts the most common words used: "
   ]
  },
  {
   "cell_type": "code",
   "execution_count": 19,
   "metadata": {},
   "outputs": [],
   "source": [
    "fdist_democrat = FreqDist(democrat_tweets)\n",
    "fdist_republican = FreqDist(republican_tweets)"
   ]
  },
  {
   "cell_type": "code",
   "execution_count": 46,
   "metadata": {
    "scrolled": true
   },
   "outputs": [
    {
     "name": "stdout",
     "output_type": "stream",
     "text": [
      "Most common words used by Democrats:\n"
     ]
    },
    {
     "data": {
      "text/plain": [
       "FreqDist({'today': 3850, 'trump': 2502, 'american': 2053, 'year': 1835, 'thank': 1777, 'family': 1694, 'great': 1676, 'student': 1660, 'day': 1571, 'congress': 1518, ...})"
      ]
     },
     "metadata": {},
     "output_type": "display_data"
    },
    {
     "name": "stdout",
     "output_type": "stream",
     "text": [
      "----------------------------------------------------------------------------------------------------\n",
      "Most common words used by Republicans:\n"
     ]
    },
    {
     "data": {
      "text/plain": [
       "FreqDist({'today': 4883, 'tax': 2885, 'great': 2876, 'house': 2382, 'bill': 2379, 'american': 2241, 'thank': 2118, 'year': 1961, 'day': 1887, 'act': 1820, ...})"
      ]
     },
     "metadata": {},
     "output_type": "display_data"
    }
   ],
   "source": [
    "print('Most common words used by Democrats:')\n",
    "display(fdist_democrat)\n",
    "\n",
    "print('-'*100)\n",
    "\n",
    "print('Most common words used by Republicans:')\n",
    "display(fdist_republican)"
   ]
  },
  {
   "cell_type": "markdown",
   "metadata": {},
   "source": [
    "Let's create a sorted dataframe for the top ten words used for both democrats and republicans:"
   ]
  },
  {
   "cell_type": "code",
   "execution_count": 52,
   "metadata": {
    "cell_style": "split"
   },
   "outputs": [
    {
     "data": {
      "text/html": [
       "<div>\n",
       "<style scoped>\n",
       "    .dataframe tbody tr th:only-of-type {\n",
       "        vertical-align: middle;\n",
       "    }\n",
       "\n",
       "    .dataframe tbody tr th {\n",
       "        vertical-align: top;\n",
       "    }\n",
       "\n",
       "    .dataframe thead th {\n",
       "        text-align: right;\n",
       "    }\n",
       "</style>\n",
       "<table border=\"1\" class=\"dataframe\">\n",
       "  <thead>\n",
       "    <tr style=\"text-align: right;\">\n",
       "      <th></th>\n",
       "      <th>Word</th>\n",
       "      <th>Frequency</th>\n",
       "    </tr>\n",
       "  </thead>\n",
       "  <tbody>\n",
       "    <tr>\n",
       "      <th>0</th>\n",
       "      <td>today</td>\n",
       "      <td>3850</td>\n",
       "    </tr>\n",
       "    <tr>\n",
       "      <th>80</th>\n",
       "      <td>trump</td>\n",
       "      <td>2502</td>\n",
       "    </tr>\n",
       "    <tr>\n",
       "      <th>89</th>\n",
       "      <td>american</td>\n",
       "      <td>2053</td>\n",
       "    </tr>\n",
       "    <tr>\n",
       "      <th>108</th>\n",
       "      <td>year</td>\n",
       "      <td>1835</td>\n",
       "    </tr>\n",
       "    <tr>\n",
       "      <th>56</th>\n",
       "      <td>thank</td>\n",
       "      <td>1777</td>\n",
       "    </tr>\n",
       "    <tr>\n",
       "      <th>197</th>\n",
       "      <td>family</td>\n",
       "      <td>1694</td>\n",
       "    </tr>\n",
       "    <tr>\n",
       "      <th>92</th>\n",
       "      <td>great</td>\n",
       "      <td>1676</td>\n",
       "    </tr>\n",
       "    <tr>\n",
       "      <th>195</th>\n",
       "      <td>student</td>\n",
       "      <td>1660</td>\n",
       "    </tr>\n",
       "    <tr>\n",
       "      <th>465</th>\n",
       "      <td>day</td>\n",
       "      <td>1571</td>\n",
       "    </tr>\n",
       "    <tr>\n",
       "      <th>31</th>\n",
       "      <td>congress</td>\n",
       "      <td>1518</td>\n",
       "    </tr>\n",
       "  </tbody>\n",
       "</table>\n",
       "</div>"
      ],
      "text/plain": [
       "         Word  Frequency\n",
       "0       today       3850\n",
       "80      trump       2502\n",
       "89   american       2053\n",
       "108      year       1835\n",
       "56      thank       1777\n",
       "197    family       1694\n",
       "92      great       1676\n",
       "195   student       1660\n",
       "465       day       1571\n",
       "31   congress       1518"
      ]
     },
     "execution_count": 52,
     "metadata": {},
     "output_type": "execute_result"
    }
   ],
   "source": [
    "dem = pd.DataFrame(list(fdist_democrat.items()), \n",
    "                   columns = [\"Word\",\"Frequency\"])\n",
    "dem_sorted = dem.sort_values(by = ['Frequency'], \n",
    "                             ascending=False)\n",
    "dem_sorted.head(10)"
   ]
  },
  {
   "cell_type": "code",
   "execution_count": 54,
   "metadata": {
    "cell_style": "split"
   },
   "outputs": [
    {
     "data": {
      "text/html": [
       "<div>\n",
       "<style scoped>\n",
       "    .dataframe tbody tr th:only-of-type {\n",
       "        vertical-align: middle;\n",
       "    }\n",
       "\n",
       "    .dataframe tbody tr th {\n",
       "        vertical-align: top;\n",
       "    }\n",
       "\n",
       "    .dataframe thead th {\n",
       "        text-align: right;\n",
       "    }\n",
       "</style>\n",
       "<table border=\"1\" class=\"dataframe\">\n",
       "  <thead>\n",
       "    <tr style=\"text-align: right;\">\n",
       "      <th></th>\n",
       "      <th>Word</th>\n",
       "      <th>Frequency</th>\n",
       "    </tr>\n",
       "  </thead>\n",
       "  <tbody>\n",
       "    <tr>\n",
       "      <th>1</th>\n",
       "      <td>today</td>\n",
       "      <td>4883</td>\n",
       "    </tr>\n",
       "    <tr>\n",
       "      <th>102</th>\n",
       "      <td>tax</td>\n",
       "      <td>2885</td>\n",
       "    </tr>\n",
       "    <tr>\n",
       "      <th>99</th>\n",
       "      <td>great</td>\n",
       "      <td>2876</td>\n",
       "    </tr>\n",
       "    <tr>\n",
       "      <th>188</th>\n",
       "      <td>house</td>\n",
       "      <td>2382</td>\n",
       "    </tr>\n",
       "    <tr>\n",
       "      <th>3</th>\n",
       "      <td>bill</td>\n",
       "      <td>2379</td>\n",
       "    </tr>\n",
       "    <tr>\n",
       "      <th>71</th>\n",
       "      <td>american</td>\n",
       "      <td>2241</td>\n",
       "    </tr>\n",
       "    <tr>\n",
       "      <th>50</th>\n",
       "      <td>thank</td>\n",
       "      <td>2118</td>\n",
       "    </tr>\n",
       "    <tr>\n",
       "      <th>135</th>\n",
       "      <td>year</td>\n",
       "      <td>1961</td>\n",
       "    </tr>\n",
       "    <tr>\n",
       "      <th>100</th>\n",
       "      <td>day</td>\n",
       "      <td>1887</td>\n",
       "    </tr>\n",
       "    <tr>\n",
       "      <th>385</th>\n",
       "      <td>act</td>\n",
       "      <td>1820</td>\n",
       "    </tr>\n",
       "  </tbody>\n",
       "</table>\n",
       "</div>"
      ],
      "text/plain": [
       "         Word  Frequency\n",
       "1       today       4883\n",
       "102       tax       2885\n",
       "99      great       2876\n",
       "188     house       2382\n",
       "3        bill       2379\n",
       "71   american       2241\n",
       "50      thank       2118\n",
       "135      year       1961\n",
       "100       day       1887\n",
       "385       act       1820"
      ]
     },
     "execution_count": 54,
     "metadata": {},
     "output_type": "execute_result"
    }
   ],
   "source": [
    "rep = pd.DataFrame(list(fdist_republican.items()),\n",
    "                   columns = [\"Word\",\"Frequency\"])\n",
    "rep_sorted = re.sort_values(['Frequency'], \n",
    "                            ascending=False)\n",
    "rep_sorted.head(10)"
   ]
  },
  {
   "cell_type": "markdown",
   "metadata": {},
   "source": [
    "And finally we'll plot the most frequent words by party:"
   ]
  },
  {
   "cell_type": "code",
   "execution_count": 38,
   "metadata": {
    "scrolled": false
   },
   "outputs": [
    {
     "data": {
      "image/png": "[encoded data removed]",
      "text/plain": [
       "<Figure size 720x432 with 1 Axes>"
      ]
     },
     "metadata": {
      "needs_background": "light"
     },
     "output_type": "display_data"
    },
    {
     "data": {
      "image/png": "[encoded data removed]",
      "text/plain": [
       "<Figure size 720x432 with 1 Axes>"
      ]
     },
     "metadata": {
      "needs_background": "light"
     },
     "output_type": "display_data"
    }
   ],
   "source": [
    "plt.subplots(figsize = (10,6))\n",
    "fdist_democrat.plot(10, title = \"Democrat Tweets\")\n",
    "\n",
    "\n",
    "plt.subplots(figsize = (10,6))\n",
    "fdist_republican.plot(10, title=\"Republican Tweets\");"
   ]
  },
  {
   "cell_type": "markdown",
   "metadata": {},
   "source": [
    "### Vocab Length\n",
    "\n",
    "We're going to recover the total vocab for both parties in this brief section followed by visualizing the differences in their respective twitter lexicons:"
   ]
  },
  {
   "cell_type": "code",
   "execution_count": 39,
   "metadata": {},
   "outputs": [
    {
     "name": "stdout",
     "output_type": "stream",
     "text": [
      "35462\n"
     ]
    }
   ],
   "source": [
    "dem_vocab = set(word for text in democrat_list for word in text.split(\" \"))\n",
    "dem_total_vocab = len(dem_vocab)\n",
    "print(dem_total_vocab)"
   ]
  },
  {
   "cell_type": "code",
   "execution_count": 40,
   "metadata": {},
   "outputs": [
    {
     "name": "stdout",
     "output_type": "stream",
     "text": [
      "33086\n"
     ]
    }
   ],
   "source": [
    "rep_vocab = set(word for text in republican_list for word in text.split(\" \"))\n",
    "rep_total_vocab = len(rep_vocab)\n",
    "print(rep_total_vocab)"
   ]
  },
  {
   "cell_type": "markdown",
   "metadata": {},
   "source": [
    "Let's plot the total vocab by party:"
   ]
  },
  {
   "cell_type": "code",
   "execution_count": 41,
   "metadata": {},
   "outputs": [
    {
     "data": {
      "image/png": "[encoded data removed]",
      "text/plain": [
       "<Figure size 432x432 with 1 Axes>"
      ]
     },
     "metadata": {
      "needs_background": "light"
     },
     "output_type": "display_data"
    }
   ],
   "source": [
    "plt.figure(figsize=(6,6))\n",
    "\n",
    "y = (rep_total_vocab, dem_total_vocab,)\n",
    "x = ('Republican', 'Democrat')\n",
    "\n",
    "plt.bar(x,y, width = .6, color = 'mediumpurple', align = \"center\", alpha = .7)\n",
    "plt.title('Vocab Comparison', size = 17)\n",
    "plt.xticks(size = 13)\n",
    "plt.yticks(size = 13)\n",
    "plt.ylim(25000, 37000)\n",
    "\n",
    "plt.show();"
   ]
  },
  {
   "cell_type": "markdown",
   "metadata": {},
   "source": [
    "### Semantic Relationships\n",
    "\n",
    "For this part of our analysis, we're going to extract the semantic relationships between words in our democratic and republican corpus'. We'll do this by training a Word2Vec neural network which establishes the relationships between words via a vector space.\n",
    "\n",
    "We'll visualize the 10 most related words based on their semantic similarities used within the tweets by party:"
   ]
  },
  {
   "cell_type": "markdown",
   "metadata": {},
   "source": [
    "***Democrats***\n",
    "\n",
    "We'll work through training our embedding model with the democratic corpus followed by the republican corpus. Let's start by tokenizing the text:"
   ]
  },
  {
   "cell_type": "code",
   "execution_count": 131,
   "metadata": {},
   "outputs": [],
   "source": [
    "dem_tokenized_text = [text.split(\" \") for text in democrat_list]"
   ]
  },
  {
   "cell_type": "markdown",
   "metadata": {},
   "source": [
    "Next we'll train the democrat Word2Vec embedding model:"
   ]
  },
  {
   "cell_type": "code",
   "execution_count": 132,
   "metadata": {
    "scrolled": false
   },
   "outputs": [
    {
     "name": "stderr",
     "output_type": "stream",
     "text": [
      "W0819 16:57:11.993963 4560319936 base_any2vec.py:723] consider setting layer size to a multiple of 4 for greater performance\n"
     ]
    }
   ],
   "source": [
    "dem_embedding = Word2Vec(sentences = dem_tokenized_text, size=30)"
   ]
  },
  {
   "cell_type": "markdown",
   "metadata": {},
   "source": [
    "Let's store our word vectors in a variable X_dem:"
   ]
  },
  {
   "cell_type": "code",
   "execution_count": 133,
   "metadata": {
    "scrolled": true
   },
   "outputs": [
    {
     "data": {
      "text/plain": [
       "array([[-1.0561465 , -0.2717827 ,  0.30067936, -0.4058227 ,  0.17983897,\n",
       "        -0.8901363 ,  1.4616792 ,  1.7100716 , -0.13252333,  0.509834  ,\n",
       "         1.7274972 ,  1.057308  , -1.3890642 , -0.19340423, -1.209903  ,\n",
       "        -0.48416665,  0.5724483 , -0.35606983,  1.1507066 ,  0.4941735 ,\n",
       "        -0.04717588, -0.4576108 ,  0.7029309 ,  0.9905194 , -0.34435523,\n",
       "        -0.899336  , -0.29327038, -0.2934039 , -0.9707426 ,  0.6037811 ]],\n",
       "      dtype=float32)"
      ]
     },
     "execution_count": 133,
     "metadata": {},
     "output_type": "execute_result"
    }
   ],
   "source": [
    "X_dem = dem_embedding[dem_embedding.wv.vocab]\n",
    "X_dem[:1]"
   ]
  },
  {
   "cell_type": "markdown",
   "metadata": {},
   "source": [
    "In order to plot the words in a vector space, we'll need to reduce the number of dimensions to two. We'll do this using principle component analysis (PCA):"
   ]
  },
  {
   "cell_type": "code",
   "execution_count": 157,
   "metadata": {},
   "outputs": [
    {
     "data": {
      "text/plain": [
       "array([ 1.3559048, -2.4547522], dtype=float32)"
      ]
     },
     "execution_count": 157,
     "metadata": {},
     "output_type": "execute_result"
    }
   ],
   "source": [
    "pca = PCA(n_components=2)\n",
    "X_dem_fitted = pca.fit_transform(X_dem)\n",
    "X_dem_fitted[0]"
   ]
  },
  {
   "cell_type": "markdown",
   "metadata": {},
   "source": [
    "And store the democrat vocab in a words_dem variable:"
   ]
  },
  {
   "cell_type": "code",
   "execution_count": 158,
   "metadata": {},
   "outputs": [
    {
     "data": {
      "text/plain": [
       "['today', 'senate', 'dems', 'vote', 'savetheinternet']"
      ]
     },
     "execution_count": 158,
     "metadata": {},
     "output_type": "execute_result"
    }
   ],
   "source": [
    "words_dem = list(dem_embedding.wv.vocab)\n",
    "words_dem[:5]"
   ]
  },
  {
   "cell_type": "markdown",
   "metadata": {},
   "source": [
    "Next we'll define a function used to print the 10 most closely related words based on the semantic relationships established within the democrats tweet corpus:"
   ]
  },
  {
   "cell_type": "code",
   "execution_count": 159,
   "metadata": {},
   "outputs": [],
   "source": [
    "def dem_similar_words(word):\n",
    "    \n",
    "    words_to_plot = [word] + [w[0] for w in dem_embedding.similar_by_word(word, 10)]\n",
    "    indices = [words_dem.index(word_to_plot) for word_to_plot in words_to_plot]\n",
    "   \n",
    "    plt.figure(figsize=(8,6))\n",
    "    for index, word in zip(indices, words_to_plot):\n",
    "        \n",
    "        vec = X_dem_fitted[index]\n",
    "        \n",
    "        plt.scatter(vec[0], vec[1], c = 'mediumpurple', s = 200, alpha=0.5)\n",
    "        plt.annotate(word, vec + [0.15, 0], fontsize = 14)\n",
    "\n",
    "    print('Similar words with positive semantic relationship:')\n",
    "    display(words_to_plot)\n",
    "    plt.show()"
   ]
  },
  {
   "cell_type": "markdown",
   "metadata": {},
   "source": [
    "Now we can run our functions using the target words outlined in the project overview. We'll start with 'trump':"
   ]
  },
  {
   "cell_type": "code",
   "execution_count": 160,
   "metadata": {
    "cell_style": "center"
   },
   "outputs": [
    {
     "name": "stdout",
     "output_type": "stream",
     "text": [
      "Similar words with positive semantic relationship:\n"
     ]
    },
    {
     "data": {
      "text/plain": [
       "['trump',\n",
       " 'realdonaldtrump',\n",
       " 'decision',\n",
       " 'obama',\n",
       " 'potus',\n",
       " 'withdraw',\n",
       " 'mr',\n",
       " 'iran',\n",
       " 'russia',\n",
       " 'russian',\n",
       " 'potentia']"
      ]
     },
     "metadata": {},
     "output_type": "display_data"
    },
    {
     "data": {
      "image/png": "[encoded data removed]",
      "text/plain": [
       "<Figure size 576x432 with 1 Axes>"
      ]
     },
     "metadata": {
      "needs_background": "light"
     },
     "output_type": "display_data"
    }
   ],
   "source": [
    "dem_similar_words('trump')"
   ]
  },
  {
   "cell_type": "markdown",
   "metadata": {},
   "source": [
    "The next word in 'bill:"
   ]
  },
  {
   "cell_type": "code",
   "execution_count": 161,
   "metadata": {
    "cell_style": "center",
    "scrolled": false
   },
   "outputs": [
    {
     "name": "stdout",
     "output_type": "stream",
     "text": [
      "Similar words with positive semantic relationship:\n"
     ]
    },
    {
     "data": {
      "text/plain": [
       "['bill',\n",
       " 'farm',\n",
       " 'passed',\n",
       " 'omnibus',\n",
       " 'introduced',\n",
       " 'amendment',\n",
       " 'faa',\n",
       " 'reauthorization',\n",
       " 'legislation',\n",
       " 'farmbill',\n",
       " 'hr']"
      ]
     },
     "metadata": {},
     "output_type": "display_data"
    },
    {
     "data": {
      "image/png": "[encoded data removed]",
      "text/plain": [
       "<Figure size 576x432 with 1 Axes>"
      ]
     },
     "metadata": {
      "needs_background": "light"
     },
     "output_type": "display_data"
    }
   ],
   "source": [
    "dem_similar_words('bill')"
   ]
  },
  {
   "cell_type": "markdown",
   "metadata": {},
   "source": [
    "And finally, the word 'tax':"
   ]
  },
  {
   "cell_type": "code",
   "execution_count": 162,
   "metadata": {
    "cell_style": "center",
    "scrolled": false
   },
   "outputs": [
    {
     "name": "stdout",
     "output_type": "stream",
     "text": [
      "Similar words with positive semantic relationship:\n"
     ]
    },
    {
     "data": {
      "text/plain": [
       "['tax',\n",
       " 'goptaxscam',\n",
       " 'corporation',\n",
       " 'wealthy',\n",
       " 'trillion',\n",
       " 'bre',\n",
       " 'file',\n",
       " 'deficit',\n",
       " 'explode',\n",
       " 'cut',\n",
       " 'break']"
      ]
     },
     "metadata": {},
     "output_type": "display_data"
    },
    {
     "data": {
      "image/png": "[encoded data removed]",
      "text/plain": [
       "<Figure size 576x432 with 1 Axes>"
      ]
     },
     "metadata": {
      "needs_background": "light"
     },
     "output_type": "display_data"
    }
   ],
   "source": [
    "dem_similar_words('tax')"
   ]
  },
  {
   "cell_type": "markdown",
   "metadata": {},
   "source": [
    "***Republicans***\n",
    "\n",
    "We'll follow the same steps for the republican tweet corpus as above with the democrat tweet corpus:"
   ]
  },
  {
   "cell_type": "code",
   "execution_count": 148,
   "metadata": {},
   "outputs": [],
   "source": [
    "rep_tokenized_text = [text.split(\" \") for text in republican_list]"
   ]
  },
  {
   "cell_type": "code",
   "execution_count": 149,
   "metadata": {},
   "outputs": [
    {
     "name": "stderr",
     "output_type": "stream",
     "text": [
      "W0819 17:01:14.852749 4560319936 base_any2vec.py:723] consider setting layer size to a multiple of 4 for greater performance\n"
     ]
    }
   ],
   "source": [
    "rep_embedding = Word2Vec(sentences = rep_tokenized_text, size=30)"
   ]
  },
  {
   "cell_type": "code",
   "execution_count": 150,
   "metadata": {},
   "outputs": [
    {
     "data": {
      "text/plain": [
       "array([[-1.8056078 ,  0.7944643 ,  0.47631395,  0.79957736,  0.8158256 ,\n",
       "        -0.48250872,  0.6752398 ,  0.22277257,  0.22191761,  0.76053   ,\n",
       "         1.3283628 ,  0.97151583, -1.2624757 ,  0.09315257, -1.5055304 ,\n",
       "         0.03195211, -0.59897333, -0.6069548 ,  0.5275862 ,  0.78075093,\n",
       "         0.5689369 ,  0.12105613,  0.9162017 ,  0.36461928,  0.577759  ,\n",
       "         0.34656656,  0.12449715, -0.45669785, -1.0370744 ,  0.84043634]],\n",
       "      dtype=float32)"
      ]
     },
     "execution_count": 150,
     "metadata": {},
     "output_type": "execute_result"
    }
   ],
   "source": [
    "X_rep = rep_embedding[rep_embedding.wv.vocab]\n",
    "X_rep[:1]"
   ]
  },
  {
   "cell_type": "code",
   "execution_count": 155,
   "metadata": {},
   "outputs": [
    {
     "data": {
      "text/plain": [
       "array([0.86594343, 1.7975118 ], dtype=float32)"
      ]
     },
     "execution_count": 155,
     "metadata": {},
     "output_type": "execute_result"
    }
   ],
   "source": [
    "pca = PCA(n_components=2)\n",
    "X_rep_fitted = pca.fit_transform(X_rep)\n",
    "X_rep_fitted[0]"
   ]
  },
  {
   "cell_type": "code",
   "execution_count": 156,
   "metadata": {},
   "outputs": [
    {
     "data": {
      "text/plain": [
       "['today', 'introduced', 'bill', 'would', 'eliminate']"
      ]
     },
     "execution_count": 156,
     "metadata": {},
     "output_type": "execute_result"
    }
   ],
   "source": [
    "words_rep = list(rep_embedding.wv.vocab)\n",
    "words_rep[:5]"
   ]
  },
  {
   "cell_type": "code",
   "execution_count": 153,
   "metadata": {},
   "outputs": [],
   "source": [
    "def rep_similar_words(word):\n",
    "    \n",
    "    words_to_plot = [word] + [w[0] for w in rep_embedding.similar_by_word(word, 10)]\n",
    "    indices = [words_rep.index(word_to_plot) for word_to_plot in words_to_plot]\n",
    "   \n",
    "    plt.figure(figsize=(8,6))\n",
    "    for index, word in zip(indices, words_to_plot):\n",
    "        \n",
    "        vec = X_rep_fitted[index]\n",
    "        \n",
    "        plt.scatter(vec[0], vec[1], c = 'mediumpurple', s = 200, alpha=0.5)\n",
    "        plt.annotate(word, vec + [0.15, 0], fontsize = 14)\n",
    "\n",
    "    print('Similar words with positive semantic relationship:')\n",
    "    display(words_to_plot)\n",
    "    plt.show()"
   ]
  },
  {
   "cell_type": "markdown",
   "metadata": {},
   "source": [
    "With our republican functions established, let's analyze the same target words. We'll start with 'trump':"
   ]
  },
  {
   "cell_type": "code",
   "execution_count": 154,
   "metadata": {
    "cell_style": "center"
   },
   "outputs": [
    {
     "name": "stdout",
     "output_type": "stream",
     "text": [
      "Similar words with positive semantic relationship:\n"
     ]
    },
    {
     "data": {
      "text/plain": [
       "['trump',\n",
       " 'obama',\n",
       " 'realdonaldtrump',\n",
       " 'decision',\n",
       " 'desk',\n",
       " 'macron',\n",
       " 'truman',\n",
       " 'iran',\n",
       " 'deal',\n",
       " 'applaud',\n",
       " 'sotu']"
      ]
     },
     "metadata": {},
     "output_type": "display_data"
    },
    {
     "data": {
      "image/png": "[encoded data removed]",
      "text/plain": [
       "<Figure size 576x432 with 1 Axes>"
      ]
     },
     "metadata": {
      "needs_background": "light"
     },
     "output_type": "display_data"
    }
   ],
   "source": [
    "rep_similar_words('trump')"
   ]
  },
  {
   "cell_type": "markdown",
   "metadata": {},
   "source": [
    "And 'bill':"
   ]
  },
  {
   "cell_type": "code",
   "execution_count": 163,
   "metadata": {
    "cell_style": "center"
   },
   "outputs": [
    {
     "name": "stdout",
     "output_type": "stream",
     "text": [
      "Similar words with positive semantic relationship:\n"
     ]
    },
    {
     "data": {
      "text/plain": [
       "['bill',\n",
       " 'legislation',\n",
       " 'hr',\n",
       " 'introduced',\n",
       " 'readit',\n",
       " 'included',\n",
       " 'includes',\n",
       " 'favor',\n",
       " 'omnibus',\n",
       " 'voted',\n",
       " 'pas']"
      ]
     },
     "metadata": {},
     "output_type": "display_data"
    },
    {
     "data": {
      "image/png": "[encoded data removed]",
      "text/plain": [
       "<Figure size 576x432 with 1 Axes>"
      ]
     },
     "metadata": {
      "needs_background": "light"
     },
     "output_type": "display_data"
    }
   ],
   "source": [
    "rep_similar_words('bill')"
   ]
  },
  {
   "cell_type": "markdown",
   "metadata": {},
   "source": [
    "And finally, 'tax':"
   ]
  },
  {
   "cell_type": "code",
   "execution_count": 164,
   "metadata": {
    "cell_style": "center"
   },
   "outputs": [
    {
     "name": "stdout",
     "output_type": "stream",
     "text": [
      "Similar words with positive semantic relationship:\n"
     ]
    },
    {
     "data": {
      "text/plain": [
       "['tax',\n",
       " 'broken',\n",
       " 'outdated',\n",
       " 'taxreformtuesday',\n",
       " 'result',\n",
       " 'tyson',\n",
       " 'confusing',\n",
       " 'overhauling',\n",
       " 'claim',\n",
       " 'taxcode',\n",
       " 'flatter']"
      ]
     },
     "metadata": {},
     "output_type": "display_data"
    },
    {
     "data": {
      "image/png": "[encoded data removed]",
      "text/plain": [
       "<Figure size 576x432 with 1 Axes>"
      ]
     },
     "metadata": {
      "needs_background": "light"
     },
     "output_type": "display_data"
    }
   ],
   "source": [
    "rep_similar_words('tax')"
   ]
  },
  {
   "cell_type": "markdown",
   "metadata": {},
   "source": [
    "### Sentiment Analysis\n",
    "\n",
    "This section will focus on the overall sentiment and objectivity scores exuded by tweets from each party. We'll calculate these metrics using TextBlob:"
   ]
  },
  {
   "cell_type": "code",
   "execution_count": 166,
   "metadata": {},
   "outputs": [],
   "source": [
    "democratblob = TextBlob(str(democrat_tweets))\n",
    "republicanblob = TextBlob(str(republican_tweets))"
   ]
  },
  {
   "cell_type": "code",
   "execution_count": 78,
   "metadata": {},
   "outputs": [
    {
     "name": "stdout",
     "output_type": "stream",
     "text": [
      "Democratic sentiment score: 0.16536069955855845\n",
      "Republican sentiment score: 0.19836825482009132\n"
     ]
    }
   ],
   "source": [
    "dem_sentiment = democratblob.sentiment[0]\n",
    "print('Democratic sentiment score:', dem_sentiment)\n",
    "\n",
    "rep_sentiment = republicanblob.sentiment[0]\n",
    "print('Republican sentiment score:', rep_sentiment)"
   ]
  },
  {
   "cell_type": "markdown",
   "metadata": {},
   "source": [
    "Perhaps not surprisingly, democrats in congress exude a slightly more negative tone as a large portion of their content is likely aimed at highlighting the negative consequences of the republican lead majority at the time of data capture. \n",
    "\n",
    "Let's do a quick visual side by side comparison of the sentiment:"
   ]
  },
  {
   "cell_type": "code",
   "execution_count": 79,
   "metadata": {},
   "outputs": [
    {
     "data": {
      "image/png": "[encoded data removed]",
      "text/plain": [
       "<Figure size 432x432 with 1 Axes>"
      ]
     },
     "metadata": {
      "needs_background": "light"
     },
     "output_type": "display_data"
    }
   ],
   "source": [
    "plt.figure(figsize=(6,6))\n",
    "\n",
    "y = (rep_sentiment, dem_sentiment)\n",
    "x = ('Republican', 'Democrat')\n",
    "\n",
    "plt.bar(x,y, width = .6, color = 'mediumpurple', align = \"center\", alpha = .7)\n",
    "plt.title('Sentiment Comparison', size = 17)\n",
    "plt.xticks(size = 13)\n",
    "plt.yticks(size = 13)\n",
    "plt.ylim(.1,.21)\n",
    "\n",
    "plt.show();"
   ]
  },
  {
   "cell_type": "markdown",
   "metadata": {},
   "source": [
    "Finally, let's take a look at the objectivity score of both parties:"
   ]
  },
  {
   "cell_type": "code",
   "execution_count": 169,
   "metadata": {},
   "outputs": [
    {
     "name": "stdout",
     "output_type": "stream",
     "text": [
      "Democratic objectivity score: 0.4648999095113135\n",
      "Republican objectivity score: 0.4590716830328091\n"
     ]
    }
   ],
   "source": [
    "dem_objectivity = democratblob.sentiment[1]\n",
    "print('Democratic objectivity score:', dem_objectivity)\n",
    "\n",
    "rep_objectivity = republicanblob.sentiment[1]\n",
    "print('Republican objectivity score:', rep_objectivity)"
   ]
  },
  {
   "cell_type": "markdown",
   "metadata": {},
   "source": [
    "Based on the equivalence in objectivity scores, it can be said that both parties exhibit the same amount of opinion and factual information within their tweets. "
   ]
  },
  {
   "cell_type": "markdown",
   "metadata": {},
   "source": [
    "--------------------------------------------------------------------------------------------------------------------\n",
    "--------------------------------------------------------------------------------------------------------------------\n",
    "\n",
    "# *Part Two<a id='parttwo'></a>*\n",
    "[Back to top](#top)\n",
    "\n",
    "Part two of this project will focus on party classification of our tweet dataset using a neural networks. We'll begin with feature engineering followed attempting to model our data using LSTM and GRU networks. Producing a model that does not exhibit over fitting while generating an accuracy score of 90% or better is the objective here."
   ]
  },
  {
   "cell_type": "markdown",
   "metadata": {},
   "source": [
    "### Feature Engineering\n",
    "We'll begin this section by re-importing our dataset:"
   ]
  },
  {
   "cell_type": "code",
   "execution_count": 2,
   "metadata": {
    "scrolled": true
   },
   "outputs": [
    {
     "data": {
      "text/html": [
       "<div>\n",
       "<style scoped>\n",
       "    .dataframe tbody tr th:only-of-type {\n",
       "        vertical-align: middle;\n",
       "    }\n",
       "\n",
       "    .dataframe tbody tr th {\n",
       "        vertical-align: top;\n",
       "    }\n",
       "\n",
       "    .dataframe thead th {\n",
       "        text-align: right;\n",
       "    }\n",
       "</style>\n",
       "<table border=\"1\" class=\"dataframe\">\n",
       "  <thead>\n",
       "    <tr style=\"text-align: right;\">\n",
       "      <th></th>\n",
       "      <th>Party</th>\n",
       "      <th>Handle</th>\n",
       "      <th>Tweet</th>\n",
       "    </tr>\n",
       "  </thead>\n",
       "  <tbody>\n",
       "    <tr>\n",
       "      <th>0</th>\n",
       "      <td>Democrat</td>\n",
       "      <td>RepDarrenSoto</td>\n",
       "      <td>Today, Senate Dems vote to #SaveTheInternet. P...</td>\n",
       "    </tr>\n",
       "    <tr>\n",
       "      <th>1</th>\n",
       "      <td>Democrat</td>\n",
       "      <td>RepDarrenSoto</td>\n",
       "      <td>RT @WinterHavenSun: Winter Haven resident / Al...</td>\n",
       "    </tr>\n",
       "    <tr>\n",
       "      <th>2</th>\n",
       "      <td>Democrat</td>\n",
       "      <td>RepDarrenSoto</td>\n",
       "      <td>RT @NBCLatino: .@RepDarrenSoto noted that Hurr...</td>\n",
       "    </tr>\n",
       "    <tr>\n",
       "      <th>3</th>\n",
       "      <td>Democrat</td>\n",
       "      <td>RepDarrenSoto</td>\n",
       "      <td>RT @NALCABPolicy: Meeting with @RepDarrenSoto ...</td>\n",
       "    </tr>\n",
       "    <tr>\n",
       "      <th>4</th>\n",
       "      <td>Democrat</td>\n",
       "      <td>RepDarrenSoto</td>\n",
       "      <td>RT @Vegalteno: Hurricane season starts on June...</td>\n",
       "    </tr>\n",
       "  </tbody>\n",
       "</table>\n",
       "</div>"
      ],
      "text/plain": [
       "      Party         Handle                                              Tweet\n",
       "0  Democrat  RepDarrenSoto  Today, Senate Dems vote to #SaveTheInternet. P...\n",
       "1  Democrat  RepDarrenSoto  RT @WinterHavenSun: Winter Haven resident / Al...\n",
       "2  Democrat  RepDarrenSoto  RT @NBCLatino: .@RepDarrenSoto noted that Hurr...\n",
       "3  Democrat  RepDarrenSoto  RT @NALCABPolicy: Meeting with @RepDarrenSoto ...\n",
       "4  Democrat  RepDarrenSoto  RT @Vegalteno: Hurricane season starts on June..."
      ]
     },
     "execution_count": 2,
     "metadata": {},
     "output_type": "execute_result"
    }
   ],
   "source": [
    "df = pd.read_csv('ExtractedTweets.csv')\n",
    "df.head()"
   ]
  },
  {
   "cell_type": "markdown",
   "metadata": {},
   "source": [
    "**Data Cleaning**\n",
    "\n",
    "Next, we'll generate our stopwords list for cleaning the tweet text: "
   ]
  },
  {
   "cell_type": "code",
   "execution_count": 3,
   "metadata": {},
   "outputs": [],
   "source": [
    "stopwords = stopwords.words('english')\n",
    "stopwords += ['rt', 'u', 'amp', 'w', 'th']\n",
    "stopwords += ['0', '1', '2', '3', '4', '5', '6', '7', '8', '9']"
   ]
  },
  {
   "cell_type": "markdown",
   "metadata": {},
   "source": [
    "We'll clean the tweets using a for loop and a combination of regex and our stopwords list above. The output from this cleaning loop has subsequently been saved to a json file in our repo from running the cleaning loop previously: "
   ]
  },
  {
   "cell_type": "code",
   "execution_count": 6,
   "metadata": {},
   "outputs": [],
   "source": [
    "clean_tweet = []\n",
    "\n",
    "for w in df.Tweet:\n",
    "    \n",
    "    w = re.sub(r'http\\S+', '', w) #remove links\n",
    "    w = re.sub(\"[^a-zA-Z]\", \" \", w) #remove all characters except letters\n",
    "    w = w.lower() #convert all words to lowercase\n",
    "    \n",
    "    w = nlp.word_tokenize(w) #split sentences into word\n",
    "    w = [word for word in w if not word in set(stopwords)] #add to stopwords list if unnecessary words.\n",
    "    \n",
    "    lemma = nlp.WordNetLemmatizer() \n",
    "    w = [lemma.lemmatize(word) for word in w] #identify the correct form of the word in the dictionary\n",
    "    \n",
    "    w = \" \".join(w)\n",
    "    \n",
    "    clean_tweet.append(w) #append words to list"
   ]
  },
  {
   "cell_type": "markdown",
   "metadata": {},
   "source": [
    "Here's where we've saved the cleaned tweets previously:"
   ]
  },
  {
   "cell_type": "code",
   "execution_count": null,
   "metadata": {},
   "outputs": [],
   "source": [
    "df[\"clean_tweet\"] = clean_tweet\n",
    "\n",
    "df.to_json(\"cleaned_tweet_data.json\")"
   ]
  },
  {
   "cell_type": "markdown",
   "metadata": {},
   "source": [
    "Below we'll call our clean tweet json file for modeling purposes:"
   ]
  },
  {
   "cell_type": "code",
   "execution_count": 97,
   "metadata": {},
   "outputs": [
    {
     "data": {
      "text/html": [
       "<div>\n",
       "<style scoped>\n",
       "    .dataframe tbody tr th:only-of-type {\n",
       "        vertical-align: middle;\n",
       "    }\n",
       "\n",
       "    .dataframe tbody tr th {\n",
       "        vertical-align: top;\n",
       "    }\n",
       "\n",
       "    .dataframe thead th {\n",
       "        text-align: right;\n",
       "    }\n",
       "</style>\n",
       "<table border=\"1\" class=\"dataframe\">\n",
       "  <thead>\n",
       "    <tr style=\"text-align: right;\">\n",
       "      <th></th>\n",
       "      <th>Party</th>\n",
       "      <th>Handle</th>\n",
       "      <th>Tweet</th>\n",
       "      <th>clean_tweet</th>\n",
       "    </tr>\n",
       "  </thead>\n",
       "  <tbody>\n",
       "    <tr>\n",
       "      <th>0</th>\n",
       "      <td>Democrat</td>\n",
       "      <td>RepDarrenSoto</td>\n",
       "      <td>Today, Senate Dems vote to #SaveTheInternet. P...</td>\n",
       "      <td>today senate dems vote savetheinternet proud s...</td>\n",
       "    </tr>\n",
       "    <tr>\n",
       "      <th>1</th>\n",
       "      <td>Democrat</td>\n",
       "      <td>RepDarrenSoto</td>\n",
       "      <td>RT @WinterHavenSun: Winter Haven resident / Al...</td>\n",
       "      <td>winterhavensun winter resident alta vista teac...</td>\n",
       "    </tr>\n",
       "    <tr>\n",
       "      <th>10</th>\n",
       "      <td>Democrat</td>\n",
       "      <td>RepDarrenSoto</td>\n",
       "      <td>RT @AllSaints_FL: Zhihan (John)'s art received...</td>\n",
       "      <td>allsaints fl zhihan john art received award ye...</td>\n",
       "    </tr>\n",
       "    <tr>\n",
       "      <th>100</th>\n",
       "      <td>Democrat</td>\n",
       "      <td>RepDarrenSoto</td>\n",
       "      <td>Thanks to @FL_WildCorridor @CarltonWard @JoeGu...</td>\n",
       "      <td>thanks fl wildcorridor carltonward joeguthrie ...</td>\n",
       "    </tr>\n",
       "    <tr>\n",
       "      <th>1000</th>\n",
       "      <td>Democrat</td>\n",
       "      <td>RepBarragan</td>\n",
       "      <td>Very cool. Congrats Luz on breaking a barrier ...</td>\n",
       "      <td>cool congrats luz breaking barrier baseball li...</td>\n",
       "    </tr>\n",
       "  </tbody>\n",
       "</table>\n",
       "</div>"
      ],
      "text/plain": [
       "         Party         Handle  \\\n",
       "0     Democrat  RepDarrenSoto   \n",
       "1     Democrat  RepDarrenSoto   \n",
       "10    Democrat  RepDarrenSoto   \n",
       "100   Democrat  RepDarrenSoto   \n",
       "1000  Democrat    RepBarragan   \n",
       "\n",
       "                                                  Tweet  \\\n",
       "0     Today, Senate Dems vote to #SaveTheInternet. P...   \n",
       "1     RT @WinterHavenSun: Winter Haven resident / Al...   \n",
       "10    RT @AllSaints_FL: Zhihan (John)'s art received...   \n",
       "100   Thanks to @FL_WildCorridor @CarltonWard @JoeGu...   \n",
       "1000  Very cool. Congrats Luz on breaking a barrier ...   \n",
       "\n",
       "                                            clean_tweet  \n",
       "0     today senate dems vote savetheinternet proud s...  \n",
       "1     winterhavensun winter resident alta vista teac...  \n",
       "10    allsaints fl zhihan john art received award ye...  \n",
       "100   thanks fl wildcorridor carltonward joeguthrie ...  \n",
       "1000  cool congrats luz breaking barrier baseball li...  "
      ]
     },
     "execution_count": 97,
     "metadata": {},
     "output_type": "execute_result"
    }
   ],
   "source": [
    "df = pd.read_json(\"cleaned_tweet_data.json\")\n",
    "df.head()"
   ]
  },
  {
   "cell_type": "markdown",
   "metadata": {},
   "source": [
    "Next we'll compare the original tweets to the now cleaned text to ensure all unnecessary text characters have been removed: "
   ]
  },
  {
   "cell_type": "code",
   "execution_count": 84,
   "metadata": {
    "scrolled": true
   },
   "outputs": [
    {
     "data": {
      "text/plain": [
       "'Today, Senate Dems vote to #SaveTheInternet. Proud to support similar #NetNeutrality legislation here in the House… https://t.co/n3tggDLU1L'"
      ]
     },
     "metadata": {},
     "output_type": "display_data"
    },
    {
     "data": {
      "text/plain": [
       "'RT @WinterHavenSun: Winter Haven resident / Alta Vista teacher is one of several recognized by @RepDarrenSoto for National Teacher Apprecia…'"
      ]
     },
     "metadata": {},
     "output_type": "display_data"
    },
    {
     "data": {
      "text/plain": [
       "'RT @NBCLatino: .@RepDarrenSoto noted that Hurricane Maria has left approximately $90 billion in damages. \\n\\nCongress has allocated about $18…'"
      ]
     },
     "metadata": {},
     "output_type": "display_data"
    },
    {
     "data": {
      "text/plain": [
       "'RT @NALCABPolicy: Meeting with @RepDarrenSoto . Thanks for taking the time to meet with @LatinoLeader ED Marucci Guzman. #NALCABPolicy2018.…'"
      ]
     },
     "metadata": {},
     "output_type": "display_data"
    },
    {
     "data": {
      "text/plain": [
       "'RT @Vegalteno: Hurricane season starts on June 1st; Puerto Rico’s readiness...well 🤦🏼\\u200d♂️😡😩@Pwr4PuertoRico @RepDarrenSoto @EspaillatNY'"
      ]
     },
     "metadata": {},
     "output_type": "display_data"
    }
   ],
   "source": [
    "display(df['Tweet'][0])\n",
    "display(df['Tweet'][1])\n",
    "display(df['Tweet'][2])\n",
    "display(df['Tweet'][3])\n",
    "display(df['Tweet'][4])"
   ]
  },
  {
   "cell_type": "code",
   "execution_count": 85,
   "metadata": {},
   "outputs": [
    {
     "data": {
      "text/plain": [
       "'today senate dems vote savetheinternet proud support similar netneutrality legislation house'"
      ]
     },
     "metadata": {},
     "output_type": "display_data"
    },
    {
     "data": {
      "text/plain": [
       "'winterhavensun winter resident alta vista teacher one several recognized repdarrensoto national teacher apprecia'"
      ]
     },
     "metadata": {},
     "output_type": "display_data"
    },
    {
     "data": {
      "text/plain": [
       "'nbclatino repdarrensoto noted hurricane maria left approximately billion damage congress allocated'"
      ]
     },
     "metadata": {},
     "output_type": "display_data"
    },
    {
     "data": {
      "text/plain": [
       "'nalcabpolicy meeting repdarrensoto thanks taking time meet latinoleader ed marucci guzman nalcabpolicy'"
      ]
     },
     "metadata": {},
     "output_type": "display_data"
    },
    {
     "data": {
      "text/plain": [
       "'vegalteno hurricane season start june st puerto rico readiness well pwr puertorico repdarrensoto espaillatny'"
      ]
     },
     "metadata": {},
     "output_type": "display_data"
    }
   ],
   "source": [
    "clean_tweet = df.clean_tweet\n",
    "\n",
    "display(clean_tweet[0])\n",
    "display(clean_tweet[1])\n",
    "display(clean_tweet[2])\n",
    "display(clean_tweet[3])\n",
    "display(clean_tweet[4])"
   ]
  },
  {
   "cell_type": "markdown",
   "metadata": {},
   "source": [
    "**Convert Labels to Integers**\n",
    "\n",
    "Now that our text data is cleaned, we'll need to convert our labels into digits so we can run them through our models. For our data, we'll make democrat tweets a 1 and republican tweets a 0:"
   ]
  },
  {
   "cell_type": "code",
   "execution_count": 98,
   "metadata": {},
   "outputs": [
    {
     "data": {
      "text/plain": [
       "(86460,)"
      ]
     },
     "execution_count": 98,
     "metadata": {},
     "output_type": "execute_result"
    }
   ],
   "source": [
    "labels = [1 if p == 'Democrat' else 0 for p in df.Party]\n",
    "labels = np.array(labels)\n",
    "labels.shape"
   ]
  },
  {
   "cell_type": "markdown",
   "metadata": {},
   "source": [
    "**Tokenize Text**\n",
    "\n",
    "Next we'll tokenize the text using NLTK:"
   ]
  },
  {
   "cell_type": "code",
   "execution_count": 99,
   "metadata": {},
   "outputs": [],
   "source": [
    "tokenizer = text.Tokenizer(num_words = 20000)\n",
    "tokenizer.fit_on_texts(list(df[\"clean_tweet\"]))\n",
    "\n",
    "list_tokenized_train = tokenizer.texts_to_sequences(df[\"clean_tweet\"])"
   ]
  },
  {
   "cell_type": "markdown",
   "metadata": {},
   "source": [
    "**Padding**\n",
    "\n",
    "In order to feed our tokenized tweets into a model with similar matrix sizes, we'll need to pad the end of each matrix is zeros. Doing so creates matrices with an equal length of 40 integers:"
   ]
  },
  {
   "cell_type": "code",
   "execution_count": 100,
   "metadata": {},
   "outputs": [
    {
     "data": {
      "text/plain": [
       "array([15041,  1716,   402, 15042,  4455,   241,    23,   818,  1121,\n",
       "        1555,    39,   241, 15043,     0,     0,     0,     0,     0,\n",
       "           0,     0,     0,     0,     0,     0,     0,     0,     0,\n",
       "           0,     0,     0,     0,     0,     0,     0,     0,     0,\n",
       "           0,     0,     0,     0], dtype=int32)"
      ]
     },
     "metadata": {},
     "output_type": "display_data"
    },
    {
     "name": "stdout",
     "output_type": "stream",
     "text": [
      "\n",
      "Tweet matrix shape: (86460, 40)\n"
     ]
    }
   ],
   "source": [
    "X_t = sequence.pad_sequences(list_tokenized_train, maxlen=40, padding='post')\n",
    "display(X_t[1])\n",
    "print()\n",
    "print('Tweet matrix shape:',X_t.shape)"
   ]
  },
  {
   "cell_type": "markdown",
   "metadata": {},
   "source": [
    "**Train Test Split**\n",
    "\n",
    "We'll split our data using the train_test_split method from sklearn with 20% as the test set and 80% as the train set:"
   ]
  },
  {
   "cell_type": "code",
   "execution_count": 101,
   "metadata": {},
   "outputs": [],
   "source": [
    "X_train, X_test, y_train, y_test = train_test_split(X_t, labels, test_size=0.20, random_state=42)"
   ]
  },
  {
   "cell_type": "markdown",
   "metadata": {},
   "source": [
    "And view our X train and Y train shapes:"
   ]
  },
  {
   "cell_type": "code",
   "execution_count": 102,
   "metadata": {},
   "outputs": [
    {
     "data": {
      "text/plain": [
       "(69168, 40)"
      ]
     },
     "execution_count": 102,
     "metadata": {},
     "output_type": "execute_result"
    }
   ],
   "source": [
    "X_train.shape"
   ]
  },
  {
   "cell_type": "code",
   "execution_count": 103,
   "metadata": {},
   "outputs": [
    {
     "data": {
      "text/plain": [
       "(69168,)"
      ]
     },
     "execution_count": 103,
     "metadata": {},
     "output_type": "execute_result"
    }
   ],
   "source": [
    "y_train.shape"
   ]
  },
  {
   "cell_type": "markdown",
   "metadata": {},
   "source": [
    "------------------------------------------------------------------------------------------------------------------\n",
    "### Modeling\n",
    "\n",
    "For the modeling portion, we're going to run two different RNNs: LSTM and GRU models. The intent is to identify the best model in terms of accuracy scores on the test set while exhibiting no signs of over fitting."
   ]
  },
  {
   "cell_type": "markdown",
   "metadata": {},
   "source": [
    "**LSTM Model One**\n",
    "\n",
    "We'll start by establishing the architecture of our first LSTM model. This model will serve as our baseline model:"
   ]
  },
  {
   "cell_type": "code",
   "execution_count": 47,
   "metadata": {},
   "outputs": [],
   "source": [
    "lstm_model_one = Sequential()\n",
    "\n",
    "lstm_model_one.add(Embedding(20000, 128, input_length=40)) # embedding size of 20000 so we use only the 20000 most used words in our corpus\n",
    "\n",
    "lstm_model_one.add(LSTM(50, return_sequences=True))\n",
    "\n",
    "lstm_model_one.add(GlobalMaxPool1D()) # so the model uses a maxpool operation across all weights in the recurrent layer\n",
    "\n",
    "lstm_model_one.add(Dense(50, activation='relu')) # layer of 50 with activation set to relu\n",
    "\n",
    "lstm_model_one.add(Dense(2, activation='sigmoid')) # output layer activation set to sigmoid for binary classification"
   ]
  },
  {
   "cell_type": "markdown",
   "metadata": {},
   "source": [
    "Let's compile our model using sparse_categorical_crossentropy as our loss function, 'adam' as our optimizer, and accuracy as our scoring metric: "
   ]
  },
  {
   "cell_type": "code",
   "execution_count": 48,
   "metadata": {},
   "outputs": [],
   "source": [
    "lstm_model_one.compile(loss = 'sparse_categorical_crossentropy', optimizer='adam', metrics = ['accuracy'])"
   ]
  },
  {
   "cell_type": "markdown",
   "metadata": {},
   "source": [
    "And review the overall architecture: "
   ]
  },
  {
   "cell_type": "code",
   "execution_count": 14,
   "metadata": {
    "scrolled": false
   },
   "outputs": [
    {
     "name": "stdout",
     "output_type": "stream",
     "text": [
      "_________________________________________________________________\n",
      "Layer (type)                 Output Shape              Param #   \n",
      "=================================================================\n",
      "embedding_1 (Embedding)      (None, 40, 128)           2560000   \n",
      "_________________________________________________________________\n",
      "lstm_1 (LSTM)                (None, 40, 50)            35800     \n",
      "_________________________________________________________________\n",
      "global_max_pooling1d_1 (Glob (None, 50)                0         \n",
      "_________________________________________________________________\n",
      "dense_1 (Dense)              (None, 50)                2550      \n",
      "_________________________________________________________________\n",
      "dense_2 (Dense)              (None, 2)                 102       \n",
      "=================================================================\n",
      "Total params: 2,598,452\n",
      "Trainable params: 2,598,452\n",
      "Non-trainable params: 0\n",
      "_________________________________________________________________\n"
     ]
    }
   ],
   "source": [
    "lstm_model_one.summary()"
   ]
  },
  {
   "cell_type": "markdown",
   "metadata": {},
   "source": [
    "We'll fit our model using a batch size of 128, 6 epochs, and a validation split of 20%:"
   ]
  },
  {
   "cell_type": "code",
   "execution_count": 49,
   "metadata": {},
   "outputs": [
    {
     "name": "stdout",
     "output_type": "stream",
     "text": [
      "Train on 55334 samples, validate on 13834 samples\n",
      "Epoch 1/6\n",
      "55334/55334 [==============================] - 54s 970us/step - loss: 0.5060 - acc: 0.7335 - val_loss: 0.4278 - val_acc: 0.7882\n",
      "Epoch 2/6\n",
      "55334/55334 [==============================] - 50s 900us/step - loss: 0.3445 - acc: 0.8396 - val_loss: 0.4309 - val_acc: 0.7941\n",
      "Epoch 3/6\n",
      "55334/55334 [==============================] - 48s 876us/step - loss: 0.2699 - acc: 0.8744 - val_loss: 0.4661 - val_acc: 0.7919\n",
      "Epoch 4/6\n",
      "55334/55334 [==============================] - 47s 850us/step - loss: 0.2135 - acc: 0.9032 - val_loss: 0.5513 - val_acc: 0.7875\n",
      "Epoch 5/6\n",
      "55334/55334 [==============================] - 46s 834us/step - loss: 0.1622 - acc: 0.9280 - val_loss: 0.6328 - val_acc: 0.7847\n",
      "Epoch 6/6\n",
      "55334/55334 [==============================] - 50s 907us/step - loss: 0.1203 - acc: 0.9482 - val_loss: 0.7418 - val_acc: 0.7792\n"
     ]
    }
   ],
   "source": [
    "LSTM_one_history = lstm_model_one.fit(X_train, y_train, batch_size=128, epochs=6, verbose=1, validation_split=0.2)"
   ]
  },
  {
   "cell_type": "markdown",
   "metadata": {},
   "source": [
    "Let's plot the accuracy and loss for both the training and validation set:"
   ]
  },
  {
   "cell_type": "code",
   "execution_count": 50,
   "metadata": {},
   "outputs": [
    {
     "data": {
      "image/png": "[encoded data removed]",
      "text/plain": [
       "<Figure size 432x288 with 1 Axes>"
      ]
     },
     "metadata": {
      "needs_background": "light"
     },
     "output_type": "display_data"
    },
    {
     "data": {
      "image/png": "[encoded data removed]",
      "text/plain": [
       "<Figure size 432x288 with 1 Axes>"
      ]
     },
     "metadata": {
      "needs_background": "light"
     },
     "output_type": "display_data"
    }
   ],
   "source": [
    "plt.plot(LSTM_one_history.history['acc'])\n",
    "plt.plot(LSTM_one_history.history['val_acc'])\n",
    "\n",
    "plt.title('LSTM Model Accuracy')\n",
    "plt.ylabel('Accuracy')\n",
    "plt.xlabel('Epoch')\n",
    "plt.legend(['Train','Validation'], loc='upper left')\n",
    "plt.show()\n",
    "\n",
    "plt.plot(LSTM_one_history.history['loss'])\n",
    "plt.plot(LSTM_one_history.history['val_loss'])\n",
    "\n",
    "plt.title('LSTM Model Loss')\n",
    "plt.ylabel('Loss')\n",
    "plt.xlabel('Epoch')\n",
    "plt.legend(['Train','Validation'], loc='upper left')\n",
    "plt.show()"
   ]
  },
  {
   "cell_type": "markdown",
   "metadata": {},
   "source": [
    "Finally, let's see how our model scores on our test set:"
   ]
  },
  {
   "cell_type": "code",
   "execution_count": 17,
   "metadata": {},
   "outputs": [
    {
     "name": "stdout",
     "output_type": "stream",
     "text": [
      "17292/17292 [==============================] - 5s 279us/step\n"
     ]
    }
   ],
   "source": [
    "score = lstm_model_one.evaluate(X_test, y_test, verbose=1)"
   ]
  },
  {
   "cell_type": "code",
   "execution_count": 18,
   "metadata": {},
   "outputs": [
    {
     "name": "stdout",
     "output_type": "stream",
     "text": [
      "Test Accuracy: 0.7809391626185519\n"
     ]
    }
   ],
   "source": [
    "print(\"Test Accuracy:\", score[1])"
   ]
  },
  {
   "cell_type": "markdown",
   "metadata": {},
   "source": [
    "**LSTM Model One Observations**\n",
    "\n",
    "Our first attempt at training an LSTM model resulted in clear over fitting. This is apparent by the spread between our training and testing accuracy scores: ~94% for the training set and ~78% for the testing set. \n",
    "\n",
    "Further, for each epoch beyond the second one, the spread in our training and test accuracy score continued to widen.\n",
    "\n",
    "Last, our test accuracy score of ~78% means we are far from our target accuracy of 90% in order to deem the model successful.\n"
   ]
  },
  {
   "cell_type": "markdown",
   "metadata": {},
   "source": [
    "**LSTM Model Two**\n",
    "\n",
    "For this model, we'll follow the same steps as before. Changes in our approach from the last model will be outlined as we go. \n",
    "\n",
    "The architecture of this model will include a few changes in an attempt to limit over fitting:\n",
    "\n",
    "- Include L2 regularization\n",
    "- Include dropout layers\n",
    "- Limit the size of our dense layers to 16 neurons from 50 neurons"
   ]
  },
  {
   "cell_type": "code",
   "execution_count": 104,
   "metadata": {},
   "outputs": [],
   "source": [
    "lstm_model_two = Sequential()\n",
    "\n",
    "lstm_model_two.add(Embedding(20000, 128, input_length=40))\n",
    "\n",
    "lstm_model_two.add(LSTM(50, return_sequences=True))\n",
    "\n",
    "lstm_model_two.add(GlobalMaxPool1D())\n",
    "\n",
    "lstm_model_two.add(Dropout(0.5)) # Adding dropout layers to reduce overfitting\n",
    "\n",
    "lstm_model_two.add(Dense(16, kernel_regularizer=regularizers.l2(0.001), activation='relu')) # Reduce neurons in dense layer to 16 while adding L2 regularization\n",
    "\n",
    "lstm_model_two.add(Dropout(0.5))\n",
    "\n",
    "lstm_model_two.add(Dense(2, activation='sigmoid')) "
   ]
  },
  {
   "cell_type": "markdown",
   "metadata": {},
   "source": [
    "We'll use the same hyperparameters as before:"
   ]
  },
  {
   "cell_type": "code",
   "execution_count": 105,
   "metadata": {},
   "outputs": [],
   "source": [
    "lstm_model_two.compile(loss = 'sparse_categorical_crossentropy', optimizer = 'adam', metrics = ['accuracy'])"
   ]
  },
  {
   "cell_type": "code",
   "execution_count": 106,
   "metadata": {
    "scrolled": false
   },
   "outputs": [
    {
     "name": "stdout",
     "output_type": "stream",
     "text": [
      "_________________________________________________________________\n",
      "Layer (type)                 Output Shape              Param #   \n",
      "=================================================================\n",
      "embedding_3 (Embedding)      (None, 40, 128)           2560000   \n",
      "_________________________________________________________________\n",
      "lstm_3 (LSTM)                (None, 40, 50)            35800     \n",
      "_________________________________________________________________\n",
      "global_max_pooling1d_3 (Glob (None, 50)                0         \n",
      "_________________________________________________________________\n",
      "dropout_5 (Dropout)          (None, 50)                0         \n",
      "_________________________________________________________________\n",
      "dense_5 (Dense)              (None, 16)                816       \n",
      "_________________________________________________________________\n",
      "dropout_6 (Dropout)          (None, 16)                0         \n",
      "_________________________________________________________________\n",
      "dense_6 (Dense)              (None, 2)                 34        \n",
      "=================================================================\n",
      "Total params: 2,596,650\n",
      "Trainable params: 2,596,650\n",
      "Non-trainable params: 0\n",
      "_________________________________________________________________\n"
     ]
    }
   ],
   "source": [
    "lstm_model_two.summary()"
   ]
  },
  {
   "cell_type": "markdown",
   "metadata": {},
   "source": [
    "In a final attempt to limit over fitting, we'll increase our validation split to 40% of the training data:"
   ]
  },
  {
   "cell_type": "code",
   "execution_count": 108,
   "metadata": {},
   "outputs": [
    {
     "name": "stdout",
     "output_type": "stream",
     "text": [
      "Train on 41500 samples, validate on 27668 samples\n",
      "Epoch 1/6\n",
      "41500/41500 [==============================] - 39s 934us/step - loss: 0.5140 - acc: 0.7715 - val_loss: 0.4649 - val_acc: 0.7804\n",
      "Epoch 2/6\n",
      "41500/41500 [==============================] - 38s 924us/step - loss: 0.4011 - acc: 0.8352 - val_loss: 0.4610 - val_acc: 0.7839\n",
      "Epoch 3/6\n",
      "41500/41500 [==============================] - 45s 1ms/step - loss: 0.3368 - acc: 0.8638 - val_loss: 0.5010 - val_acc: 0.7823\n",
      "Epoch 4/6\n",
      "41500/41500 [==============================] - 36s 869us/step - loss: 0.2865 - acc: 0.8842 - val_loss: 0.5797 - val_acc: 0.7810\n",
      "Epoch 5/6\n",
      "41500/41500 [==============================] - 37s 899us/step - loss: 0.2480 - acc: 0.9011 - val_loss: 0.6219 - val_acc: 0.7803\n",
      "Epoch 6/6\n",
      "41500/41500 [==============================] - 39s 941us/step - loss: 0.2160 - acc: 0.9153 - val_loss: 0.7951 - val_acc: 0.7781\n"
     ]
    }
   ],
   "source": [
    "LSTM_two_history = lstm_model_two.fit(X_train, y_train, batch_size=128, epochs=6, verbose=1, validation_split=0.4)"
   ]
  },
  {
   "cell_type": "code",
   "execution_count": 109,
   "metadata": {},
   "outputs": [
    {
     "data": {
      "image/png": "[encoded data removed]",
      "text/plain": [
       "<Figure size 432x288 with 1 Axes>"
      ]
     },
     "metadata": {
      "needs_background": "light"
     },
     "output_type": "display_data"
    },
    {
     "data": {
      "image/png": "[encoded data removed]",
      "text/plain": [
       "<Figure size 432x288 with 1 Axes>"
      ]
     },
     "metadata": {
      "needs_background": "light"
     },
     "output_type": "display_data"
    }
   ],
   "source": [
    "plt.plot(LSTM_two_history.history['acc'])\n",
    "plt.plot(LSTM_two_history.history['val_acc'])\n",
    "\n",
    "plt.title('LSTM Model Accuracy')\n",
    "plt.ylabel('Accuracy')\n",
    "plt.xlabel('Epoch')\n",
    "plt.legend(['Train','Validation'], loc='upper left')\n",
    "plt.show()\n",
    "\n",
    "plt.plot(LSTM_two_history.history['loss'])\n",
    "plt.plot(LSTM_two_history.history['val_loss'])\n",
    "\n",
    "plt.title('LSTM Model Loss')\n",
    "plt.ylabel('Loss')\n",
    "plt.xlabel('Epoch')\n",
    "plt.legend(['Train','Validation'], loc='upper left')\n",
    "plt.show()"
   ]
  },
  {
   "cell_type": "code",
   "execution_count": 110,
   "metadata": {},
   "outputs": [
    {
     "name": "stdout",
     "output_type": "stream",
     "text": [
      "17292/17292 [==============================] - 5s 310us/step\n"
     ]
    }
   ],
   "source": [
    "score = lstm_model_two.evaluate(X_test, y_test, verbose=1)\n"
   ]
  },
  {
   "cell_type": "code",
   "execution_count": 111,
   "metadata": {},
   "outputs": [
    {
     "name": "stdout",
     "output_type": "stream",
     "text": [
      "Test Accuracy: 0.7796090677632189\n"
     ]
    }
   ],
   "source": [
    "print(\"Test Accuracy:\", score[1])"
   ]
  },
  {
   "cell_type": "markdown",
   "metadata": {},
   "source": [
    "**LSTM Model Two Observations**\n",
    "\n",
    "Our attempts to limit over fitting produced some positive results, albeit not enough. The spread in training vs. testing accuracy was reduced from a ~16% spread in our first model to a ~12% spread in our second model. "
   ]
  },
  {
   "cell_type": "markdown",
   "metadata": {},
   "source": [
    "**LSTM Model Three**\n",
    "\n",
    "Based on the two models above, our final attempt with an LSTM model will include the same a hyperparameters and architecture as with model two, however, this attempt will limit the number of epochs for training our model to two.\n",
    "\n",
    "We'll also change our L2 regularization parameter from .001 to .01:"
   ]
  },
  {
   "cell_type": "code",
   "execution_count": 26,
   "metadata": {},
   "outputs": [],
   "source": [
    "lstm_model_three = Sequential()\n",
    "\n",
    "lstm_model_three.add(Embedding(20000, 128, input_length=40))\n",
    "\n",
    "lstm_model_three.add(LSTM(50, return_sequences=True))\n",
    "\n",
    "lstm_model_three.add(GlobalMaxPool1D())\n",
    "\n",
    "lstm_model_three.add(Dropout(0.5)) # Adding dropout layers to reduce overfitting\n",
    "\n",
    "lstm_model_three.add(Dense(16, kernel_regularizer=regularizers.l2(0.01), activation='relu')) # Reduce neurons in dense layer to 16 while adding L2 regularization\n",
    "\n",
    "lstm_model_three.add(Dropout(0.5))\n",
    "\n",
    "lstm_model_three.add(Dense(2, activation='sigmoid')) "
   ]
  },
  {
   "cell_type": "code",
   "execution_count": 27,
   "metadata": {},
   "outputs": [],
   "source": [
    "lstm_model_three.compile(loss = 'sparse_categorical_crossentropy', optimizer = 'adam', metrics = ['accuracy'])"
   ]
  },
  {
   "cell_type": "code",
   "execution_count": 28,
   "metadata": {
    "scrolled": true
   },
   "outputs": [
    {
     "name": "stdout",
     "output_type": "stream",
     "text": [
      "_________________________________________________________________\n",
      "Layer (type)                 Output Shape              Param #   \n",
      "=================================================================\n",
      "embedding_3 (Embedding)      (None, 40, 128)           2560000   \n",
      "_________________________________________________________________\n",
      "lstm_3 (LSTM)                (None, 40, 50)            35800     \n",
      "_________________________________________________________________\n",
      "global_max_pooling1d_3 (Glob (None, 50)                0         \n",
      "_________________________________________________________________\n",
      "dropout_3 (Dropout)          (None, 50)                0         \n",
      "_________________________________________________________________\n",
      "dense_5 (Dense)              (None, 16)                816       \n",
      "_________________________________________________________________\n",
      "dropout_4 (Dropout)          (None, 16)                0         \n",
      "_________________________________________________________________\n",
      "dense_6 (Dense)              (None, 2)                 34        \n",
      "=================================================================\n",
      "Total params: 2,596,650\n",
      "Trainable params: 2,596,650\n",
      "Non-trainable params: 0\n",
      "_________________________________________________________________\n"
     ]
    }
   ],
   "source": [
    "lstm_model_three.summary()"
   ]
  },
  {
   "cell_type": "markdown",
   "metadata": {},
   "source": [
    "For the parameters on this model, we're going to reduce our validation split to 10% of the training data. Doing so will offer more data from training given we're only running two epochs with a dense layer of 16 neurons:"
   ]
  },
  {
   "cell_type": "code",
   "execution_count": 29,
   "metadata": {},
   "outputs": [
    {
     "name": "stdout",
     "output_type": "stream",
     "text": [
      "Train on 62251 samples, validate on 6917 samples\n",
      "Epoch 1/2\n",
      "62251/62251 [==============================] - 75s 1ms/step - loss: 0.3311 - acc: 0.8675 - val_loss: 0.4941 - val_acc: 0.7784\n",
      "Epoch 2/2\n",
      "62251/62251 [==============================] - 62s 1ms/step - loss: 0.2708 - acc: 0.8900 - val_loss: 0.5782 - val_acc: 0.7810\n"
     ]
    }
   ],
   "source": [
    "LSTM_three_history = lstm_model_two.fit(X_train, y_train, batch_size = 128, epochs = 2, verbose=1, validation_split=0.1)"
   ]
  },
  {
   "cell_type": "code",
   "execution_count": 32,
   "metadata": {},
   "outputs": [
    {
     "data": {
      "image/png": "[encoded data removed]",
      "text/plain": [
       "<Figure size 432x288 with 1 Axes>"
      ]
     },
     "metadata": {
      "needs_background": "light"
     },
     "output_type": "display_data"
    },
    {
     "data": {
      "image/png": "[encoded data removed]",
      "text/plain": [
       "<Figure size 432x288 with 1 Axes>"
      ]
     },
     "metadata": {
      "needs_background": "light"
     },
     "output_type": "display_data"
    }
   ],
   "source": [
    "plt.plot(LSTM_three_history.history['acc'])\n",
    "plt.plot(LSTM_three_history.history['val_acc'])\n",
    "\n",
    "plt.title('LSTM Model Accuracy')\n",
    "plt.ylabel('Accuracy')\n",
    "plt.xlabel('Epoch')\n",
    "plt.legend(['Train','Validation'], loc='upper left')\n",
    "plt.show()\n",
    "\n",
    "plt.plot(LSTM_three_history.history['loss'])\n",
    "plt.plot(LSTM_three_history.history['val_loss'])\n",
    "\n",
    "plt.title('LSTM Model Loss')\n",
    "plt.ylabel('Loss')\n",
    "plt.xlabel('Epoch')\n",
    "plt.legend(['Train','Validation'], loc='upper left')\n",
    "plt.show()"
   ]
  },
  {
   "cell_type": "code",
   "execution_count": 33,
   "metadata": {},
   "outputs": [
    {
     "name": "stdout",
     "output_type": "stream",
     "text": [
      "17292/17292 [==============================] - 5s 269us/step\n"
     ]
    }
   ],
   "source": [
    "score = lstm_model_three.evaluate(X_test, y_test, verbose=1)"
   ]
  },
  {
   "cell_type": "code",
   "execution_count": 34,
   "metadata": {},
   "outputs": [
    {
     "name": "stdout",
     "output_type": "stream",
     "text": [
      "Test Accuracy: 0.4861207494657403\n"
     ]
    }
   ],
   "source": [
    "print(\"Test Accuracy:\", score[1])"
   ]
  },
  {
   "cell_type": "markdown",
   "metadata": {},
   "source": [
    "**LSTM Model Three Observations**\n",
    "\n",
    "Our attempts to limit overfitting while maintaining a decent accuracy score with an LSTM model seems to have come up short. Our final attempt with an LSTM model using only two training epochs did not limit over fitting and produced a test accuracy score of ~49%. This means our model third model produced a mere coin flip result when it comes to classifying political party by tweet text. "
   ]
  },
  {
   "cell_type": "markdown",
   "metadata": {},
   "source": [
    "**GRU Model One**\n",
    "\n",
    "In a further attempt to increase accuracy scores we're going to run a GRU model. We'll use the same architecture and hyperparameters as our second LSTM model with the only difference being our dense layer will include 50 neurons vs. 16:"
   ]
  },
  {
   "cell_type": "code",
   "execution_count": 40,
   "metadata": {},
   "outputs": [],
   "source": [
    "gru_model_one = Sequential()\n",
    "\n",
    "gru_model_one.add(Embedding(20000, 128))\n",
    "\n",
    "gru_model_one.add(GRU(50, return_sequences=True))\n",
    "\n",
    "gru_model_one.add(GlobalMaxPool1D())\n",
    "\n",
    "gru_model_one.add(Dropout(0.5))\n",
    "\n",
    "gru_model_one.add(Dense(50, kernel_regularizer=regularizers.l2(0.001), activation='relu'))\n",
    "\n",
    "gru_model_one.add(Dropout(0.5))\n",
    "\n",
    "gru_model_one.add(Dense(2, activation='sigmoid'))"
   ]
  },
  {
   "cell_type": "code",
   "execution_count": 41,
   "metadata": {},
   "outputs": [],
   "source": [
    "gru_model_one.compile(loss='sparse_categorical_crossentropy', optimizer='adam', metrics=['accuracy'])"
   ]
  },
  {
   "cell_type": "code",
   "execution_count": 42,
   "metadata": {},
   "outputs": [
    {
     "name": "stdout",
     "output_type": "stream",
     "text": [
      "_________________________________________________________________\n",
      "Layer (type)                 Output Shape              Param #   \n",
      "=================================================================\n",
      "embedding_5 (Embedding)      (None, None, 128)         2560000   \n",
      "_________________________________________________________________\n",
      "gru_2 (GRU)                  (None, None, 50)          26850     \n",
      "_________________________________________________________________\n",
      "global_max_pooling1d_5 (Glob (None, 50)                0         \n",
      "_________________________________________________________________\n",
      "dropout_7 (Dropout)          (None, 50)                0         \n",
      "_________________________________________________________________\n",
      "dense_9 (Dense)              (None, 50)                2550      \n",
      "_________________________________________________________________\n",
      "dropout_8 (Dropout)          (None, 50)                0         \n",
      "_________________________________________________________________\n",
      "dense_10 (Dense)             (None, 2)                 102       \n",
      "=================================================================\n",
      "Total params: 2,589,502\n",
      "Trainable params: 2,589,502\n",
      "Non-trainable params: 0\n",
      "_________________________________________________________________\n"
     ]
    }
   ],
   "source": [
    "gru_model_one.summary()"
   ]
  },
  {
   "cell_type": "code",
   "execution_count": 43,
   "metadata": {},
   "outputs": [
    {
     "name": "stdout",
     "output_type": "stream",
     "text": [
      "Train on 55334 samples, validate on 13834 samples\n",
      "Epoch 1/6\n",
      "55334/55334 [==============================] - 49s 891us/step - loss: 0.5606 - acc: 0.7079 - val_loss: 0.4544 - val_acc: 0.7805\n",
      "Epoch 2/6\n",
      "55334/55334 [==============================] - 55s 998us/step - loss: 0.3844 - acc: 0.8306 - val_loss: 0.4237 - val_acc: 0.7964\n",
      "Epoch 3/6\n",
      "55334/55334 [==============================] - 56s 1ms/step - loss: 0.3128 - acc: 0.8639 - val_loss: 0.4536 - val_acc: 0.7933\n",
      "Epoch 4/6\n",
      "55334/55334 [==============================] - 47s 856us/step - loss: 0.2655 - acc: 0.8854 - val_loss: 0.4917 - val_acc: 0.7923\n",
      "Epoch 5/6\n",
      "55334/55334 [==============================] - 55s 995us/step - loss: 0.2310 - acc: 0.8982 - val_loss: 0.5379 - val_acc: 0.7837\n",
      "Epoch 6/6\n",
      "55334/55334 [==============================] - 47s 858us/step - loss: 0.2056 - acc: 0.9103 - val_loss: 0.6170 - val_acc: 0.7824\n"
     ]
    }
   ],
   "source": [
    "GRU_history_one = gru_model_one.fit(X_train, y_train, epochs=6, batch_size=128, validation_split=0.2)"
   ]
  },
  {
   "cell_type": "code",
   "execution_count": 44,
   "metadata": {},
   "outputs": [
    {
     "data": {
      "image/png": "[encoded data removed]",
      "text/plain": [
       "<Figure size 432x288 with 1 Axes>"
      ]
     },
     "metadata": {
      "needs_background": "light"
     },
     "output_type": "display_data"
    },
    {
     "data": {
      "image/png": "[encoded data removed]",
      "text/plain": [
       "<Figure size 432x288 with 1 Axes>"
      ]
     },
     "metadata": {
      "needs_background": "light"
     },
     "output_type": "display_data"
    }
   ],
   "source": [
    "plt.plot(GRU_history_one.history['acc'])\n",
    "plt.plot(GRU_history_one.history['val_acc'])\n",
    "\n",
    "plt.title('GRU Model Accuracy')\n",
    "plt.ylabel('Accuracy')\n",
    "plt.xlabel('Epoch')\n",
    "plt.legend(['Train','Validation'], loc='upper left')\n",
    "plt.show()\n",
    "\n",
    "plt.plot(GRU_history_one.history['loss'])\n",
    "plt.plot(GRU_history_one.history['val_loss'])\n",
    "\n",
    "plt.title('GRU Model Loss')\n",
    "plt.ylabel('Loss')\n",
    "plt.xlabel('Epoch')\n",
    "plt.legend(['Train','Validation'], loc='upper left')\n",
    "plt.show()"
   ]
  },
  {
   "cell_type": "code",
   "execution_count": 45,
   "metadata": {},
   "outputs": [
    {
     "name": "stdout",
     "output_type": "stream",
     "text": [
      "17292/17292 [==============================] - 4s 214us/step\n"
     ]
    }
   ],
   "source": [
    "score = gru_model_one.evaluate(X_test, y_test, verbose=1)"
   ]
  },
  {
   "cell_type": "code",
   "execution_count": 46,
   "metadata": {},
   "outputs": [
    {
     "name": "stdout",
     "output_type": "stream",
     "text": [
      "Test Accuracy: 0.7892667129170473\n"
     ]
    }
   ],
   "source": [
    "print(\"Test Accuracy:\", score[1])"
   ]
  },
  {
   "cell_type": "markdown",
   "metadata": {},
   "source": [
    "**GRU Model One Observations**\n",
    "\n",
    "It appears once again that we have struggled to reduce any signs of over fitting. However, the spread between our test and train accuracy score was similar to that of our LSTM Model Two. "
   ]
  },
  {
   "cell_type": "markdown",
   "metadata": {},
   "source": [
    "------------------------------------------------------------------------------------------------------------------\n",
    "## Conclusion <a id='conclusion'></a>\n",
    "\n",
    "[Back to top](#top)"
   ]
  },
  {
   "cell_type": "markdown",
   "metadata": {},
   "source": [
    "**Question:** \n",
    "\n",
    "Can a model successfully classify political affiliation based on language contained in official tweets?\n",
    "\n",
    "**Answer:** \n",
    "\n",
    "Based on the objectives set forth by Trace Political, it seems we have failed to produce a model that can predict party affiliation with a 90% accuracy score. Further, each model exhibited clear signs of over fitting which does not lend itself to any succesful real world deployment of these models.\n",
    "\n",
    "The short answer here as to why our models have failed is the simple fact that we are not operating with enough data. Future iterations of this objective would require additional web scraping to acquire enough tweets to improve the predictive power of our models. "
   ]
  },
  {
   "cell_type": "markdown",
   "metadata": {},
   "source": [
    "------------------------------------------------------------------------------------------------------------------\n",
    "## Recommendations <a id='recommendation'></a>\n",
    "\n",
    "[Back to top](#top)"
   ]
  },
  {
   "cell_type": "markdown",
   "metadata": {},
   "source": [
    "The models produced above exhibit clear over fitting on the training data. Further, the predictive power of each model downright abysmal to somewhat applicable. To combat this, we recommend acquiring further tweet data from which our models can learn. \n",
    "\n",
    "Additionally, Trace Political should look to data sources beyond twitter. Perhaps other forms of social media would provide rich data sets that can be used to train an NLP models. Perhaps facebook or even press releases might offer valuable data that unlocks keywords used in the language by party. "
   ]
  },
  {
   "cell_type": "markdown",
   "metadata": {},
   "source": [
    "------------------------------------------------------------------------------------------------------------------\n",
    "## Future Work <a id='futurework'></a>\n",
    "\n",
    "[Back to top](#top)"
   ]
  },
  {
   "cell_type": "markdown",
   "metadata": {},
   "source": [
    "Future work is needed to further refine and tune both the hyperparameters of these models as well as the overall model architectures. Doing so would enforce the idea of needing more data. \n",
    "\n",
    "Additionally, further work could be done on practices used with cleaning the text data. It is likely there if predictive information stored within some of the symbols and characters commonly used within tweets outside of words. \n",
    "\n",
    "Finally, work should be done with to develop a relevant use case for a model that accurately predicts political party by tweet content. Though we did not meed Trace Political's threshold for deeming this project a success, with more data and model/data cleaning experimentation, a powerful model may still be possible. Once one is developed, ways to employ the model should be flushed out for use within Trace Political's product offering. "
   ]
  },
  {
   "cell_type": "code",
   "execution_count": null,
   "metadata": {},
   "outputs": [],
   "source": []
  }
 ],
 "metadata": {
  "kernelspec": {
   "display_name": "Python 3",
   "language": "python",
   "name": "python3"
  },
  "language_info": {
   "codemirror_mode": {
    "name": "ipython",
    "version": 3
   },
   "file_extension": ".py",
   "mimetype": "text/x-python",
   "name": "python",
   "nbconvert_exporter": "python",
   "pygments_lexer": "ipython3",
   "version": "3.7.3"
  },
  "varInspector": {
   "cols": {
    "lenName": 16,
    "lenType": 16,
    "lenVar": 40
   },
   "kernels_config": {
    "python": {
     "delete_cmd_postfix": "",
     "delete_cmd_prefix": "del ",
     "library": "var_list.py",
     "varRefreshCmd": "print(var_dic_list())"
    },
    "r": {
     "delete_cmd_postfix": ") ",
     "delete_cmd_prefix": "rm(",
     "library": "var_list.r",
     "varRefreshCmd": "cat(var_dic_list()) "
    }
   },
   "oldHeight": 377.96878,
   "position": {
    "height": "604.497px",
    "left": "412.413px",
    "right": "20px",
    "top": "41.0104px",
    "width": "527.292px"
   },
   "types_to_exclude": [
    "module",
    "function",
    "builtin_function_or_method",
    "instance",
    "_Feature"
   ],
   "varInspector_section_display": "block",
   "window_display": false
  }
 },
 "nbformat": 4,
 "nbformat_minor": 2
}
