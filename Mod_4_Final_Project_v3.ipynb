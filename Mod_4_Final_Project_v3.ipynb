{
 "cells": [
  {
   "cell_type": "markdown",
   "metadata": {},
   "source": [
    "# Module Three Final Project\n",
    "\n",
    "For: XX\n",
    "\n",
    "By: Jonathan E Ericksen, JE Consulting\n",
    "\n",
    "## Background\n",
    "> xx\n",
    "\n",
    "## Objective:\n",
    "> xx\n",
    "\n",
    "## Question:\n",
    "> xx\n",
    "\n",
    "## Methodology:\n",
    "\n",
    "> This project loosely follows the industry standard OSEMiN process. The 5 stages in OSEMiN are outlined in the table of contents below with each stage highlighted within the ensuing notebook.\n",
    "\n",
    "## Table of Contents:<a id='top'></a>\n",
    "> #### [Obtain](#obtain): \n",
    "- Sourcing the data\n",
    "- Importing data\n",
    "\n",
    "> #### [Explore](#explore): \n",
    "- Data preprocessing, cleaning & wrangling\n",
    "- Tokenization\n",
    "\n",
    "> #### [Feature Engineering](#condition):\n",
    "- xx\n",
    "\n",
    "> #### [Model](#model):\n",
    "- Initial Model\n",
    "- Initial Model Interpretation & Notes\n",
    "- Data Rebalancing\n",
    "- Feature engineering\n",
    "- Hyperparameter tuning\n",
    "- Initial Cost Benefit analysis\n",
    "- Model iterations\n",
    "- Final model\n",
    "\n",
    "> *(non-OSEMiN additions)*\n",
    "- **[Cost Benefit Analysis](#costbenefitanalysis)**\n",
    "- **[Conclusions](#conclusion)**\n",
    "    - Answer to our business question\n",
    "- **[Recommendations](#recommendation)**\n",
    "- **[Future Work](#futurework)**\n",
    "\n",
    "------------------------------------------------------------------------------------------------------------------"
   ]
  },
  {
   "cell_type": "markdown",
   "metadata": {},
   "source": [
    "Before we begin, let's import the necessary libraries for our project: "
   ]
  },
  {
   "cell_type": "code",
   "execution_count": 39,
   "metadata": {},
   "outputs": [
    {
     "name": "stderr",
     "output_type": "stream",
     "text": [
      "[nltk_data] Downloading package wordnet to\n",
      "[nltk_data]     /Users/jonathanericksen/nltk_data...\n",
      "[nltk_data]   Package wordnet is already up-to-date!\n"
     ]
    }
   ],
   "source": [
    "import pandas as pd\n",
    "\n",
    "import numpy as np\n",
    "from numpy import array\n",
    "from numpy import asarray\n",
    "from numpy import zeros\n",
    "\n",
    "import re\n",
    "import nltk as nlp\n",
    "from nltk.corpus import stopwords\n",
    "from nltk.probability import FreqDist\n",
    "nltk.download('wordnet')\n",
    "\n",
    "import matplotlib.pyplot as plt\n",
    "import seaborn as sns\n",
    "plt.style.use('seaborn')\n",
    "\n",
    "from keras.preprocessing.text import one_hot\n",
    "from keras.preprocessing.sequence import pad_sequences\n",
    "from keras.models import Sequential\n",
    "from keras.layers.core import Activation, Dropout, Dense\n",
    "from keras.layers import Flatten\n",
    "from keras.layers import GlobalMaxPooling1D\n",
    "from keras.layers.embeddings import Embedding\n",
    "from sklearn.model_selection import train_test_split\n",
    "from keras.preprocessing.text import Tokenizer\n",
    "\n",
    "import warnings; warnings.simplefilter('ignore')"
   ]
  },
  {
   "cell_type": "markdown",
   "metadata": {},
   "source": [
    "## Obtain <a id='obtain'></a>\n",
    "\n",
    "[Back to top](#top)\n",
    "\n",
    "The data used for this project comes from Kaggle and includes a sampling of ~86k tweets sent from both Democratic and Republican representatives in the U.S. congress during May 2018. The dataset can be found here: https://www.kaggle.com/kapastor/democratvsrepublicantweets \n",
    "\n",
    "Let's lod the CSV file from kaggle into a pandas dataframe: "
   ]
  },
  {
   "cell_type": "code",
   "execution_count": 2,
   "metadata": {},
   "outputs": [],
   "source": [
    "df = pd.read_csv('ExtractedTweets.csv')"
   ]
  },
  {
   "cell_type": "markdown",
   "metadata": {},
   "source": [
    "------------------------------------------------------------------------------------------------------------------\n",
    "## Explatory Data Analysis <a id='explore'></a>\n",
    "\n",
    "[Back to top](#top)\n",
    "\n",
    "We'll begin our exploratory analysis by calling the standard descriptive methods on the data frame to familiarize ourselves with the features:"
   ]
  },
  {
   "cell_type": "code",
   "execution_count": 3,
   "metadata": {
    "scrolled": false
   },
   "outputs": [
    {
     "data": {
      "text/html": [
       "<div>\n",
       "<style scoped>\n",
       "    .dataframe tbody tr th:only-of-type {\n",
       "        vertical-align: middle;\n",
       "    }\n",
       "\n",
       "    .dataframe tbody tr th {\n",
       "        vertical-align: top;\n",
       "    }\n",
       "\n",
       "    .dataframe thead th {\n",
       "        text-align: right;\n",
       "    }\n",
       "</style>\n",
       "<table border=\"1\" class=\"dataframe\">\n",
       "  <thead>\n",
       "    <tr style=\"text-align: right;\">\n",
       "      <th></th>\n",
       "      <th>Party</th>\n",
       "      <th>Handle</th>\n",
       "      <th>Tweet</th>\n",
       "    </tr>\n",
       "  </thead>\n",
       "  <tbody>\n",
       "    <tr>\n",
       "      <th>0</th>\n",
       "      <td>Democrat</td>\n",
       "      <td>RepDarrenSoto</td>\n",
       "      <td>Today, Senate Dems vote to #SaveTheInternet. P...</td>\n",
       "    </tr>\n",
       "    <tr>\n",
       "      <th>1</th>\n",
       "      <td>Democrat</td>\n",
       "      <td>RepDarrenSoto</td>\n",
       "      <td>RT @WinterHavenSun: Winter Haven resident / Al...</td>\n",
       "    </tr>\n",
       "    <tr>\n",
       "      <th>2</th>\n",
       "      <td>Democrat</td>\n",
       "      <td>RepDarrenSoto</td>\n",
       "      <td>RT @NBCLatino: .@RepDarrenSoto noted that Hurr...</td>\n",
       "    </tr>\n",
       "    <tr>\n",
       "      <th>3</th>\n",
       "      <td>Democrat</td>\n",
       "      <td>RepDarrenSoto</td>\n",
       "      <td>RT @NALCABPolicy: Meeting with @RepDarrenSoto ...</td>\n",
       "    </tr>\n",
       "    <tr>\n",
       "      <th>4</th>\n",
       "      <td>Democrat</td>\n",
       "      <td>RepDarrenSoto</td>\n",
       "      <td>RT @Vegalteno: Hurricane season starts on June...</td>\n",
       "    </tr>\n",
       "  </tbody>\n",
       "</table>\n",
       "</div>"
      ],
      "text/plain": [
       "      Party         Handle                                              Tweet\n",
       "0  Democrat  RepDarrenSoto  Today, Senate Dems vote to #SaveTheInternet. P...\n",
       "1  Democrat  RepDarrenSoto  RT @WinterHavenSun: Winter Haven resident / Al...\n",
       "2  Democrat  RepDarrenSoto  RT @NBCLatino: .@RepDarrenSoto noted that Hurr...\n",
       "3  Democrat  RepDarrenSoto  RT @NALCABPolicy: Meeting with @RepDarrenSoto ...\n",
       "4  Democrat  RepDarrenSoto  RT @Vegalteno: Hurricane season starts on June..."
      ]
     },
     "metadata": {},
     "output_type": "display_data"
    },
    {
     "data": {
      "text/html": [
       "<div>\n",
       "<style scoped>\n",
       "    .dataframe tbody tr th:only-of-type {\n",
       "        vertical-align: middle;\n",
       "    }\n",
       "\n",
       "    .dataframe tbody tr th {\n",
       "        vertical-align: top;\n",
       "    }\n",
       "\n",
       "    .dataframe thead th {\n",
       "        text-align: right;\n",
       "    }\n",
       "</style>\n",
       "<table border=\"1\" class=\"dataframe\">\n",
       "  <thead>\n",
       "    <tr style=\"text-align: right;\">\n",
       "      <th></th>\n",
       "      <th>Party</th>\n",
       "      <th>Handle</th>\n",
       "      <th>Tweet</th>\n",
       "    </tr>\n",
       "  </thead>\n",
       "  <tbody>\n",
       "    <tr>\n",
       "      <th>86455</th>\n",
       "      <td>Republican</td>\n",
       "      <td>RepTomPrice</td>\n",
       "      <td>Check out my op-ed on need for End Executive O...</td>\n",
       "    </tr>\n",
       "    <tr>\n",
       "      <th>86456</th>\n",
       "      <td>Republican</td>\n",
       "      <td>RepTomPrice</td>\n",
       "      <td>Yesterday, Betty &amp;amp; I had a great time lear...</td>\n",
       "    </tr>\n",
       "    <tr>\n",
       "      <th>86457</th>\n",
       "      <td>Republican</td>\n",
       "      <td>RepTomPrice</td>\n",
       "      <td>We are forever grateful for the service and sa...</td>\n",
       "    </tr>\n",
       "    <tr>\n",
       "      <th>86458</th>\n",
       "      <td>Republican</td>\n",
       "      <td>RepTomPrice</td>\n",
       "      <td>Happy first day of school @CobbSchools! #CobbB...</td>\n",
       "    </tr>\n",
       "    <tr>\n",
       "      <th>86459</th>\n",
       "      <td>Republican</td>\n",
       "      <td>RepTomPrice</td>\n",
       "      <td>#Zika fears realized in Florida. House GOP act...</td>\n",
       "    </tr>\n",
       "  </tbody>\n",
       "</table>\n",
       "</div>"
      ],
      "text/plain": [
       "            Party       Handle  \\\n",
       "86455  Republican  RepTomPrice   \n",
       "86456  Republican  RepTomPrice   \n",
       "86457  Republican  RepTomPrice   \n",
       "86458  Republican  RepTomPrice   \n",
       "86459  Republican  RepTomPrice   \n",
       "\n",
       "                                                   Tweet  \n",
       "86455  Check out my op-ed on need for End Executive O...  \n",
       "86456  Yesterday, Betty &amp; I had a great time lear...  \n",
       "86457  We are forever grateful for the service and sa...  \n",
       "86458  Happy first day of school @CobbSchools! #CobbB...  \n",
       "86459  #Zika fears realized in Florida. House GOP act...  "
      ]
     },
     "metadata": {},
     "output_type": "display_data"
    }
   ],
   "source": [
    "display(df.head())\n",
    "display(df.tail())"
   ]
  },
  {
   "cell_type": "markdown",
   "metadata": {},
   "source": [
    "Let's confirm there are no null values:"
   ]
  },
  {
   "cell_type": "code",
   "execution_count": 5,
   "metadata": {
    "cell_style": "center"
   },
   "outputs": [
    {
     "data": {
      "text/plain": [
       "Party     0\n",
       "Handle    0\n",
       "Tweet     0\n",
       "dtype: int64"
      ]
     },
     "metadata": {},
     "output_type": "display_data"
    }
   ],
   "source": [
    "display(df.isnull().sum())"
   ]
  },
  {
   "cell_type": "markdown",
   "metadata": {},
   "source": [
    "The first full tweet in the dataset is as follows:"
   ]
  },
  {
   "cell_type": "code",
   "execution_count": 71,
   "metadata": {},
   "outputs": [
    {
     "data": {
      "text/plain": [
       "'Today, Senate Dems vote to #SaveTheInternet. Proud to support similar #NetNeutrality legislation here in the House… https://t.co/n3tggDLU1L'"
      ]
     },
     "metadata": {},
     "output_type": "display_data"
    },
    {
     "data": {
      "text/plain": [
       "'RT @WinterHavenSun: Winter Haven resident / Alta Vista teacher is one of several recognized by @RepDarrenSoto for National Teacher Apprecia…'"
      ]
     },
     "metadata": {},
     "output_type": "display_data"
    },
    {
     "data": {
      "text/plain": [
       "'RT @NBCLatino: .@RepDarrenSoto noted that Hurricane Maria has left approximately $90 billion in damages. \\n\\nCongress has allocated about $18…'"
      ]
     },
     "metadata": {},
     "output_type": "display_data"
    },
    {
     "data": {
      "text/plain": [
       "'RT @NALCABPolicy: Meeting with @RepDarrenSoto . Thanks for taking the time to meet with @LatinoLeader ED Marucci Guzman. #NALCABPolicy2018.…'"
      ]
     },
     "metadata": {},
     "output_type": "display_data"
    },
    {
     "data": {
      "text/plain": [
       "'RT @Vegalteno: Hurricane season starts on June 1st; Puerto Rico’s readiness...well 🤦🏼\\u200d♂️😡😩@Pwr4PuertoRico @RepDarrenSoto @EspaillatNY'"
      ]
     },
     "metadata": {},
     "output_type": "display_data"
    }
   ],
   "source": [
    "display(df['Tweet'][0])\n",
    "display(df['Tweet'][1])\n",
    "display(df['Tweet'][2])\n",
    "display(df['Tweet'][3])\n",
    "display(df['Tweet'][4])"
   ]
  },
  {
   "cell_type": "markdown",
   "metadata": {},
   "source": [
    "We'll separate out the tweets along party lines for further analysis:"
   ]
  },
  {
   "cell_type": "code",
   "execution_count": 6,
   "metadata": {},
   "outputs": [],
   "source": [
    "democrat = df[(df['Party'] == 'Democrat')]\n",
    "republican = df[(df['Party'] == 'Republican')]"
   ]
  },
  {
   "cell_type": "code",
   "execution_count": 7,
   "metadata": {},
   "outputs": [
    {
     "name": "stdout",
     "output_type": "stream",
     "text": [
      "Number of representatives using twitter during May 2018 as follows:\n",
      "\n",
      "Democrats: 211\n",
      "Republicans: 222\n"
     ]
    }
   ],
   "source": [
    "print('Number of representatives using twitter during May 2018 as follows:')\n",
    "print()\n",
    "print('Democrats: {}'.format(democrat['Handle'].nunique()))\n",
    "print('Republicans: {}'.format(republican['Handle'].nunique()))"
   ]
  },
  {
   "cell_type": "markdown",
   "metadata": {},
   "source": [
    "**Number of Tweets by Party**\n",
    "\n",
    "Let's take a look and the number of tweets sent by party: "
   ]
  },
  {
   "cell_type": "code",
   "execution_count": 8,
   "metadata": {},
   "outputs": [
    {
     "name": "stdout",
     "output_type": "stream",
     "text": [
      "Number of Democratic tweets: 42068\n",
      "Number of Republican tweets: 44392\n"
     ]
    }
   ],
   "source": [
    "dem_tweets = democrat['Handle'].count()\n",
    "rep_tweets = republican['Handle'].count()\n",
    "\n",
    "print('Number of Democratic tweets:', dem_tweets)\n",
    "print('Number of Republican tweets:', rep_tweets)"
   ]
  },
  {
   "cell_type": "code",
   "execution_count": 14,
   "metadata": {
    "scrolled": false
   },
   "outputs": [
    {
     "data": {
      "image/png": "[encoded data removed]",
      "text/plain": [
       "<Figure size 360x504 with 1 Axes>"
      ]
     },
     "metadata": {
      "needs_background": "light"
     },
     "output_type": "display_data"
    }
   ],
   "source": [
    "plt.figure(figsize=(5,7))\n",
    "sns.countplot(x = 'Party', data = df, palette='Blues')\n",
    "plt.title('Total Tweets by Party', size = 15)\n",
    "plt.xlabel('Party', size = 13)\n",
    "plt.ylabel('Count', size = 13)\n",
    "plt.xticks(size = 12)\n",
    "plt.yticks(size = 11);"
   ]
  },
  {
   "cell_type": "markdown",
   "metadata": {},
   "source": [
    "**Common Words by Party**"
   ]
  },
  {
   "cell_type": "code",
   "execution_count": 30,
   "metadata": {},
   "outputs": [],
   "source": [
    "stopwords = stopwords.words('english')\n",
    "stopwords += ['rt', 'u', 'amp', 'w', 'th']"
   ]
  },
  {
   "cell_type": "code",
   "execution_count": 31,
   "metadata": {},
   "outputs": [],
   "source": [
    "#Cleaning democrat party tweets \n",
    "democrat_list=[]\n",
    "for d in democrat.Tweet:\n",
    "    d=re.sub(r'http\\S+', '', d) #remove links\n",
    "    d=re.sub(\"[^a-zA-Z]\", \" \", d) #remove all characters except letters\n",
    "    d=d.lower() #convert all words to lowercase\n",
    "    d=nltk.word_tokenize(d) #split sentences into word\n",
    "    d=[word for word in d if not word in set(stopwords)] #add to stopwords list if unnecessary words.\n",
    "    lemma=nlp.WordNetLemmatizer() \n",
    "    d=[lemma.lemmatize(word) for word in d] #identify the correct form of the word in the dictionary\n",
    "    d=\" \".join(d)\n",
    "    democrat_list.append(d) #append words to list"
   ]
  },
  {
   "cell_type": "code",
   "execution_count": 32,
   "metadata": {},
   "outputs": [],
   "source": [
    "republican_list=[]\n",
    "for r in republican.Tweet:\n",
    "    r=re.sub(r'http\\S+', '', r)\n",
    "    r=re.sub(\"[^a-zA-Z]\", \" \", r)\n",
    "    r=r.lower()\n",
    "    r=nltk.word_tokenize(r)\n",
    "    r=[word for word in r if not word in set(stopwords)]\n",
    "    lemma=nlp.WordNetLemmatizer()\n",
    "    r=[lemma.lemmatize(word) for word in r]\n",
    "    r=\" \".join(r)\n",
    "    republican_list.append(r)"
   ]
  },
  {
   "cell_type": "code",
   "execution_count": 35,
   "metadata": {},
   "outputs": [
    {
     "data": {
      "text/plain": [
       "['today senate dems vote savetheinternet proud support similar netneutrality legislation house',\n",
       " 'winterhavensun winter resident alta vista teacher one several recognized repdarrensoto national teacher apprecia',\n",
       " 'nbclatino repdarrensoto noted hurricane maria left approximately billion damage congress allocated',\n",
       " 'nalcabpolicy meeting repdarrensoto thanks taking time meet latinoleader ed marucci guzman nalcabpolicy',\n",
       " 'vegalteno hurricane season start june st puerto rico readiness well pwr puertorico repdarrensoto espaillatny']"
      ]
     },
     "execution_count": 35,
     "metadata": {},
     "output_type": "execute_result"
    }
   ],
   "source": [
    "democrat_list[:5]"
   ]
  },
  {
   "cell_type": "code",
   "execution_count": 34,
   "metadata": {},
   "outputs": [
    {
     "data": {
      "text/plain": [
       "['wastefulwednesday today introduced bill would eliminate global climate change initiative gc',\n",
       " 'today honored heroic men woman law enforcement lost life line duty nati',\n",
       " 'congressmanraja last week repralphnorman hosted briefing economic benefit solar energy production',\n",
       " 'tegacaypd chief parker thankful receive recognition repralphnorman delivered mayor davidloneal national police',\n",
       " 'visited sc highway patrol bring cupcake thank service honor']"
      ]
     },
     "execution_count": 34,
     "metadata": {},
     "output_type": "execute_result"
    }
   ],
   "source": [
    "republican_list[:5]"
   ]
  },
  {
   "cell_type": "code",
   "execution_count": 36,
   "metadata": {},
   "outputs": [],
   "source": [
    "democrat_tweets=str(democrat_list).split()\n",
    "republican_tweets=str(republican_list).split()\n",
    "\n",
    "democrat_tweets=[word.replace(\"'\",\"\") for word in democrat_tweets ]\n",
    "democrat_tweets=[word.replace(\"[\", \"\") for word in democrat_tweets ]\n",
    "democrat_tweets=[word.replace(\"]\",\"\") for word in democrat_tweets ]\n",
    "democrat_tweets=[word.replace(\",\", \"\") for word in democrat_tweets ]\n",
    "\n",
    "republican_tweets=[word.replace(\"'\",\"\") for word in republican_tweets ]\n",
    "republican_tweets=[word.replace(\"[\", \"\") for word in republican_tweets ]\n",
    "republican_tweets=[word.replace(\"]\",\"\") for word in republican_tweets ]\n",
    "republican_tweets=[word.replace(\",\", \"\") for word in republican_tweets ]"
   ]
  },
  {
   "cell_type": "code",
   "execution_count": 37,
   "metadata": {},
   "outputs": [
    {
     "name": "stdout",
     "output_type": "stream",
     "text": [
      "Democrat tweets word length: 443138\n",
      "Republican tweets word length: 457293\n"
     ]
    }
   ],
   "source": [
    "print(\"Democrat tweets word length:\",len(democrat_tweets))\n",
    "print(\"Republican tweets word length:\",len(republican_tweets))"
   ]
  },
  {
   "cell_type": "code",
   "execution_count": 38,
   "metadata": {},
   "outputs": [],
   "source": [
    "#FreqDist records the number of times each words are used. \n",
    "fdist_democrat = FreqDist(democrat_tweets)\n",
    "fdist_republican=FreqDist(republican_tweets)"
   ]
  },
  {
   "cell_type": "code",
   "execution_count": 79,
   "metadata": {
    "scrolled": true
   },
   "outputs": [
    {
     "name": "stdout",
     "output_type": "stream",
     "text": [
      "Most common words used by Democrats:\n"
     ]
    },
    {
     "data": {
      "text/plain": [
       "FreqDist({'today': 3850, 'trump': 2502, 'american': 2053, 'year': 1835, 'thank': 1777, 'family': 1694, 'great': 1676, 'student': 1660, 'day': 1571, 'congress': 1518, ...})"
      ]
     },
     "metadata": {},
     "output_type": "display_data"
    },
    {
     "name": "stdout",
     "output_type": "stream",
     "text": [
      "----------------------------------------------------------------------------------------------------\n",
      "Most common words used by Republicans:\n"
     ]
    },
    {
     "data": {
      "text/plain": [
       "FreqDist({'today': 4883, 'tax': 2885, 'great': 2876, 'house': 2382, 'bill': 2379, 'american': 2241, 'thank': 2118, 'year': 1961, 'day': 1887, 'act': 1820, ...})"
      ]
     },
     "metadata": {},
     "output_type": "display_data"
    }
   ],
   "source": [
    "print('Most common words used by Democrats:')\n",
    "display(fdist_democrat)\n",
    "print('-'*100)\n",
    "print('Most common words used by Republicans:')\n",
    "display(fdist_republican)"
   ]
  },
  {
   "cell_type": "code",
   "execution_count": 82,
   "metadata": {},
   "outputs": [
    {
     "data": {
      "image/png": "[encoded data removed]",
      "text/plain": [
       "<Figure size 576x396 with 1 Axes>"
      ]
     },
     "metadata": {},
     "output_type": "display_data"
    }
   ],
   "source": [
    "plt.plot(figsize = (10,5))\n",
    "fdist_democrat.plot(10, title = \"Democrat Tweets\")"
   ]
  },
  {
   "cell_type": "code",
   "execution_count": 83,
   "metadata": {},
   "outputs": [
    {
     "data": {
      "image/png": "[encoded data removed]",
      "text/plain": [
       "<Figure size 576x396 with 1 Axes>"
      ]
     },
     "metadata": {},
     "output_type": "display_data"
    }
   ],
   "source": [
    "plt.plot(figsize = (10,5))\n",
    "fdist_republican.plot(10, title=\"Republican Tweets\")"
   ]
  },
  {
   "cell_type": "markdown",
   "metadata": {},
   "source": [
    "------------------------------------------------------------------------------------------------------------------\n",
    "## Feature Engineering<a id='condition'></a>\n",
    "\n",
    "[Back to top](#top)"
   ]
  },
  {
   "cell_type": "markdown",
   "metadata": {},
   "source": [
    "**Data Cleaning**"
   ]
  },
  {
   "cell_type": "markdown",
   "metadata": {},
   "source": [
    "Let's again take a look at the some full tweets to get a sense of special characters, symbols, links, et cetera that we'll later need filter out before tokenizing the text: "
   ]
  },
  {
   "cell_type": "code",
   "execution_count": 10,
   "metadata": {
    "scrolled": true
   },
   "outputs": [
    {
     "data": {
      "text/plain": [
       "'Today, Senate Dems vote to #SaveTheInternet. Proud to support similar #NetNeutrality legislation here in the House… https://t.co/n3tggDLU1L'"
      ]
     },
     "metadata": {},
     "output_type": "display_data"
    },
    {
     "data": {
      "text/plain": [
       "'RT @WinterHavenSun: Winter Haven resident / Alta Vista teacher is one of several recognized by @RepDarrenSoto for National Teacher Apprecia…'"
      ]
     },
     "metadata": {},
     "output_type": "display_data"
    },
    {
     "data": {
      "text/plain": [
       "'RT @NBCLatino: .@RepDarrenSoto noted that Hurricane Maria has left approximately $90 billion in damages. \\n\\nCongress has allocated about $18…'"
      ]
     },
     "metadata": {},
     "output_type": "display_data"
    },
    {
     "data": {
      "text/plain": [
       "'RT @NALCABPolicy: Meeting with @RepDarrenSoto . Thanks for taking the time to meet with @LatinoLeader ED Marucci Guzman. #NALCABPolicy2018.…'"
      ]
     },
     "metadata": {},
     "output_type": "display_data"
    },
    {
     "data": {
      "text/plain": [
       "'RT @Vegalteno: Hurricane season starts on June 1st; Puerto Rico’s readiness...well 🤦🏼\\u200d♂️😡😩@Pwr4PuertoRico @RepDarrenSoto @EspaillatNY'"
      ]
     },
     "metadata": {},
     "output_type": "display_data"
    }
   ],
   "source": [
    "display(df['Tweet'][0])\n",
    "display(df['Tweet'][1])\n",
    "display(df['Tweet'][2])\n",
    "display(df['Tweet'][3])\n",
    "display(df['Tweet'][4])"
   ]
  },
  {
   "cell_type": "markdown",
   "metadata": {},
   "source": [
    "We'll begin the data cleaning process by establishing a list of stopwords to be removed from the text: "
   ]
  },
  {
   "cell_type": "code",
   "execution_count": 12,
   "metadata": {},
   "outputs": [],
   "source": [
    "stopwords = stopwords.words('english')\n",
    "stopwords += ['rt', 'u', 'amp', 'w', 'th']"
   ]
  },
  {
   "cell_type": "markdown",
   "metadata": {},
   "source": [
    "As we see in the text, there are multiple characters that need removing before we can tokenize the text data. Let's build a processing function that takes in a string and returns the cleaned text:"
   ]
  },
  {
   "cell_type": "code",
   "execution_count": 16,
   "metadata": {},
   "outputs": [],
   "source": [
    "def clean_text(tweet):\n",
    "    #tweet = remove_tags(tweet) # Removing html tags\n",
    "    tweet = re.sub('[^a-zA-Z]', ' ', tweet) # Remove punctuations and numbers\n",
    "    tweet = re.sub(r\"\\s+[a-zA-Z]\\s+\", ' ', tweet) # Single character removal\n",
    "    tweet = re.sub(r'\\s+', ' ', tweet) # Removing multiple spaces\n",
    "    tweet = tweet.lower() # Lower case all words\n",
    "    return tweet"
   ]
  },
  {
   "cell_type": "markdown",
   "metadata": {},
   "source": [
    "Now that we have our cleaning function, we'll create a list object and and append to it all the tweets that have been run through our clean_text function:"
   ]
  },
  {
   "cell_type": "code",
   "execution_count": 17,
   "metadata": {},
   "outputs": [],
   "source": [
    "X = []\n",
    "tweets = list(df['Tweet'])\n",
    "for tweet in tweets:\n",
    "    X.append(clean_text(tweet))"
   ]
  },
  {
   "cell_type": "markdown",
   "metadata": {},
   "source": [
    "Let's compare the original tweets to the now cleaned text set: "
   ]
  },
  {
   "cell_type": "code",
   "execution_count": 18,
   "metadata": {},
   "outputs": [
    {
     "data": {
      "text/plain": [
       "'Today, Senate Dems vote to #SaveTheInternet. Proud to support similar #NetNeutrality legislation here in the House… https://t.co/n3tggDLU1L'"
      ]
     },
     "metadata": {},
     "output_type": "display_data"
    },
    {
     "data": {
      "text/plain": [
       "'RT @WinterHavenSun: Winter Haven resident / Alta Vista teacher is one of several recognized by @RepDarrenSoto for National Teacher Apprecia…'"
      ]
     },
     "metadata": {},
     "output_type": "display_data"
    },
    {
     "data": {
      "text/plain": [
       "'RT @NBCLatino: .@RepDarrenSoto noted that Hurricane Maria has left approximately $90 billion in damages. \\n\\nCongress has allocated about $18…'"
      ]
     },
     "metadata": {},
     "output_type": "display_data"
    },
    {
     "data": {
      "text/plain": [
       "'RT @NALCABPolicy: Meeting with @RepDarrenSoto . Thanks for taking the time to meet with @LatinoLeader ED Marucci Guzman. #NALCABPolicy2018.…'"
      ]
     },
     "metadata": {},
     "output_type": "display_data"
    },
    {
     "data": {
      "text/plain": [
       "'RT @Vegalteno: Hurricane season starts on June 1st; Puerto Rico’s readiness...well 🤦🏼\\u200d♂️😡😩@Pwr4PuertoRico @RepDarrenSoto @EspaillatNY'"
      ]
     },
     "metadata": {},
     "output_type": "display_data"
    }
   ],
   "source": [
    "display(df['Tweet'][0])\n",
    "display(df['Tweet'][1])\n",
    "display(df['Tweet'][2])\n",
    "display(df['Tweet'][3])\n",
    "display(df['Tweet'][4])"
   ]
  },
  {
   "cell_type": "code",
   "execution_count": 19,
   "metadata": {
    "scrolled": true
   },
   "outputs": [
    {
     "data": {
      "text/plain": [
       "['today senate dems vote to savetheinternet proud to support similar netneutrality legislation here in the house https co tggdlu l',\n",
       " 'rt winterhavensun winter haven resident alta vista teacher is one of several recognized by repdarrensoto for national teacher apprecia ',\n",
       " 'rt nbclatino repdarrensoto noted that hurricane maria has left approximately billion in damages congress has allocated about ',\n",
       " 'rt nalcabpolicy meeting with repdarrensoto thanks for taking the time to meet with latinoleader ed marucci guzman nalcabpolicy ',\n",
       " 'rt vegalteno hurricane season starts on june st puerto rico readiness well pwr puertorico repdarrensoto espaillatny']"
      ]
     },
     "execution_count": 19,
     "metadata": {},
     "output_type": "execute_result"
    }
   ],
   "source": [
    "X[:5]"
   ]
  },
  {
   "cell_type": "markdown",
   "metadata": {},
   "source": [
    "**Convert Labels to Integers**\n",
    "\n",
    "Now that our text data is cleaned, we'll need to convert our labels into digits so we can run them through our models. For our data, we'll make Democrat tweets a 1 and republican tweets a 0:"
   ]
  },
  {
   "cell_type": "code",
   "execution_count": 33,
   "metadata": {},
   "outputs": [
    {
     "name": "stdout",
     "output_type": "stream",
     "text": [
      "[1 1 1 ... 0 0 0]\n",
      "(86460,)\n"
     ]
    }
   ],
   "source": [
    "y = df['Party']\n",
    "y = np.array(list(map(lambda x: 1 if x=='Democrat' else 0, y)))\n",
    "print(y)\n",
    "print(y.shape)"
   ]
  },
  {
   "cell_type": "markdown",
   "metadata": {},
   "source": [
    "**Train Test Split**\n",
    "\n",
    "We'll split our data using the train_test_split method from sklearn with 20% as the test set and 80% as the train set:"
   ]
  },
  {
   "cell_type": "code",
   "execution_count": 68,
   "metadata": {},
   "outputs": [],
   "source": [
    "X_train, X_test, y_train, y_test = train_test_split(X, y, test_size=0.20, random_state=42)"
   ]
  },
  {
   "cell_type": "markdown",
   "metadata": {},
   "source": [
    "**Tokenize**"
   ]
  },
  {
   "cell_type": "code",
   "execution_count": 69,
   "metadata": {},
   "outputs": [],
   "source": [
    "tokenizer = Tokenizer(num_words=5000)\n",
    "tokenizer.fit_on_texts(X_train)\n",
    "\n",
    "X_train = tokenizer.texts_to_sequences(X_train)\n",
    "X_test = tokenizer.texts_to_sequences(X_test)"
   ]
  },
  {
   "cell_type": "code",
   "execution_count": 70,
   "metadata": {},
   "outputs": [
    {
     "name": "stdout",
     "output_type": "stream",
     "text": [
      "Length for train set:  69168\n",
      "Length for test set:  17292\n"
     ]
    }
   ],
   "source": [
    "print('Length for train set: ',len(X_train))\n",
    "print('Length for test set: ',len(X_test))"
   ]
  },
  {
   "cell_type": "markdown",
   "metadata": {},
   "source": [
    "**Padding**"
   ]
  },
  {
   "cell_type": "code",
   "execution_count": 71,
   "metadata": {},
   "outputs": [],
   "source": [
    "vocab_size = len(tokenizer.word_index) + 1\n",
    "\n",
    "X_train = pad_sequences(X_train, padding = 'post', maxlen = 100)\n",
    "X_test = pad_sequences(X_test, padding = 'post', maxlen = 100)"
   ]
  },
  {
   "cell_type": "code",
   "execution_count": 72,
   "metadata": {},
   "outputs": [
    {
     "name": "stdout",
     "output_type": "stream",
     "text": [
      "Number of unique words in our corpus: 110140\n"
     ]
    }
   ],
   "source": [
    "print('Number of unique words in our corpus:', vocab_size)"
   ]
  },
  {
   "cell_type": "code",
   "execution_count": 73,
   "metadata": {},
   "outputs": [
    {
     "data": {
      "text/plain": [
       "array([  62,   25,   47, 1798,  563,  196, 2083,    6,   25,   27,   49,\n",
       "       2174, 2083,    6,   49,  268,  722, 1304,    7,    3,    2, 3249,\n",
       "          0,    0,    0,    0,    0,    0,    0,    0,    0,    0,    0,\n",
       "          0,    0,    0,    0,    0,    0,    0,    0,    0,    0,    0,\n",
       "          0,    0,    0,    0,    0,    0,    0,    0,    0,    0,    0,\n",
       "          0,    0,    0,    0,    0,    0,    0,    0,    0,    0,    0,\n",
       "          0,    0,    0,    0,    0,    0,    0,    0,    0,    0,    0,\n",
       "          0,    0,    0,    0,    0,    0,    0,    0,    0,    0,    0,\n",
       "          0,    0,    0,    0,    0,    0,    0,    0,    0,    0,    0,\n",
       "          0], dtype=int32)"
      ]
     },
     "execution_count": 73,
     "metadata": {},
     "output_type": "execute_result"
    }
   ],
   "source": [
    "X_train[50]"
   ]
  },
  {
   "cell_type": "markdown",
   "metadata": {},
   "source": [
    "**Embeddings**"
   ]
  },
  {
   "cell_type": "code",
   "execution_count": 78,
   "metadata": {},
   "outputs": [],
   "source": [
    "embeddings_dictionary = dict()\n",
    "glove_file = open('glove.6B.100d.txt', encoding=\"utf8\")"
   ]
  },
  {
   "cell_type": "code",
   "execution_count": 79,
   "metadata": {},
   "outputs": [],
   "source": [
    "for line in glove_file:\n",
    "    records = line.split()\n",
    "    word = records[0]\n",
    "    vector_dimensions = asarray(records[1:], dtype='float32')\n",
    "    embeddings_dictionary [word] = vector_dimensions\n",
    "glove_file.close()"
   ]
  },
  {
   "cell_type": "code",
   "execution_count": null,
   "metadata": {},
   "outputs": [],
   "source": [
    "embedding_matrix = zeros((vocab_size, 100))\n",
    "for word, index in tokenizer.word_index.items():\n",
    "    embedding_vector = embeddings_dictionary.get(word)\n",
    "    if embedding_vector is not None:\n",
    "        embedding_matrix[index] = embedding_vector"
   ]
  },
  {
   "cell_type": "code",
   "execution_count": null,
   "metadata": {},
   "outputs": [],
   "source": []
  },
  {
   "cell_type": "code",
   "execution_count": null,
   "metadata": {},
   "outputs": [],
   "source": []
  },
  {
   "cell_type": "code",
   "execution_count": null,
   "metadata": {},
   "outputs": [],
   "source": []
  },
  {
   "cell_type": "code",
   "execution_count": null,
   "metadata": {},
   "outputs": [],
   "source": []
  },
  {
   "cell_type": "code",
   "execution_count": null,
   "metadata": {},
   "outputs": [],
   "source": []
  },
  {
   "cell_type": "code",
   "execution_count": null,
   "metadata": {},
   "outputs": [],
   "source": []
  },
  {
   "cell_type": "code",
   "execution_count": null,
   "metadata": {},
   "outputs": [],
   "source": []
  },
  {
   "cell_type": "code",
   "execution_count": null,
   "metadata": {},
   "outputs": [],
   "source": []
  },
  {
   "cell_type": "code",
   "execution_count": null,
   "metadata": {},
   "outputs": [],
   "source": []
  },
  {
   "cell_type": "code",
   "execution_count": null,
   "metadata": {},
   "outputs": [],
   "source": []
  },
  {
   "cell_type": "code",
   "execution_count": null,
   "metadata": {},
   "outputs": [],
   "source": []
  },
  {
   "cell_type": "code",
   "execution_count": null,
   "metadata": {},
   "outputs": [],
   "source": []
  },
  {
   "cell_type": "code",
   "execution_count": null,
   "metadata": {},
   "outputs": [],
   "source": []
  },
  {
   "cell_type": "code",
   "execution_count": null,
   "metadata": {},
   "outputs": [],
   "source": []
  },
  {
   "cell_type": "markdown",
   "metadata": {},
   "source": [
    "------------------------------------------------------------------------------------------------------------------\n",
    "## Modeling <a id='model'></a>\n",
    "\n",
    "[Back to top](#top)\n",
    "\n",
    "#### Initial Model\n",
    "\n",
    "Let's begin the modeling portion of the project by fitting our first model to the current data. We'll use the results of this model as our baseline from which improve the overall model performance by tuning the hyperparameters and feature engineering. We'll start by splitting the data into our training and testing sets:"
   ]
  },
  {
   "cell_type": "code",
   "execution_count": 25,
   "metadata": {},
   "outputs": [],
   "source": [
    "x_train, x_test, y_train, y_test = train_test_split(feats, target, test_size = .20)"
   ]
  },
  {
   "cell_type": "markdown",
   "metadata": {},
   "source": [
    "Fit the model:"
   ]
  },
  {
   "cell_type": "code",
   "execution_count": 26,
   "metadata": {},
   "outputs": [],
   "source": [
    "logreg = LogisticRegression(random_state=11)\n",
    "model_log = logreg.fit(x_train, y_train)"
   ]
  },
  {
   "cell_type": "markdown",
   "metadata": {},
   "source": [
    "Now that we have our baseline model, let's see how it performs on our training set: "
   ]
  },
  {
   "cell_type": "code",
   "execution_count": 27,
   "metadata": {},
   "outputs": [
    {
     "name": "stdout",
     "output_type": "stream",
     "text": [
      "Model Predictions:\n",
      "\n",
      "0    8725\n",
      "1    1139\n",
      "Name: Revenue, dtype: int64\n",
      "\n",
      "0    0.88453\n",
      "1    0.11547\n",
      "Name: Revenue, dtype: float64\n",
      "--------------------------------------------------\n",
      "Performance Metrics:\n",
      "\n",
      "Recall: 0.3882047958522359\n",
      "Precision: 0.7544080604534005\n",
      "Accuracy: 0.884529602595296\n"
     ]
    }
   ],
   "source": [
    "y_hat_train = logreg.predict(x_train)\n",
    "residuals = np.abs(y_train - y_hat_train)\n",
    "\n",
    "print('Model Predictions:')\n",
    "print()\n",
    "print(pd.Series(residuals).value_counts())\n",
    "print()\n",
    "print(pd.Series(residuals).value_counts(normalize=True))\n",
    "print('-' * 50)\n",
    "print('Performance Metrics:')\n",
    "print()\n",
    "print('Recall: {}'.format(recall_score(y_train, y_hat_train)))\n",
    "print('Precision: {}'.format(precision_score(y_train, y_hat_train))) \n",
    "print('Accuracy: {}'.format(accuracy_score(y_train, y_hat_train)))"
   ]
  },
  {
   "cell_type": "markdown",
   "metadata": {},
   "source": [
    "The model performed decently well on the training set with a 88% accuracry score. Let's see how it performs on the testing set: "
   ]
  },
  {
   "cell_type": "code",
   "execution_count": 28,
   "metadata": {
    "scrolled": true
   },
   "outputs": [
    {
     "name": "stdout",
     "output_type": "stream",
     "text": [
      "Model Predictions:\n",
      "\n",
      "0    2192\n",
      "1     274\n",
      "Name: Revenue, dtype: int64\n",
      "\n",
      "0    0.888889\n",
      "1    0.111111\n",
      "Name: Revenue, dtype: float64\n",
      "--------------------------------------------------\n",
      "Performance Metrics:\n",
      "\n",
      "Recall: 0.4\n",
      "Precision: 0.7263681592039801\n",
      "Accuracy: 0.8888888888888888\n"
     ]
    }
   ],
   "source": [
    "y_hat_test = logreg.predict(x_test)\n",
    "residuals = np.abs(y_test - y_hat_test)\n",
    "\n",
    "print('Model Predictions:')\n",
    "print()\n",
    "print(pd.Series(residuals).value_counts())\n",
    "print()\n",
    "print(pd.Series(residuals).value_counts(normalize=True))\n",
    "print('-'* 50)\n",
    "print('Performance Metrics:')\n",
    "print()\n",
    "print('Recall: {}'.format(recall_score(y_test, y_hat_test)))\n",
    "print('Precision: {}'.format(precision_score(y_test, y_hat_test))) \n",
    "print('Accuracy: {}'.format(accuracy_score(y_test, y_hat_test)))"
   ]
  },
  {
   "cell_type": "markdown",
   "metadata": {},
   "source": [
    "Again, not bad. The model returned about the same accuracy score as with the training set. The precision score dropped slightly but some variation here is to be expected. Because the training and testing scores are relatively aligned, we can be confident the model is not over fitted. \n",
    "\n",
    "Let's further analyze the test set results by visualizing the confusion matrix on the test set using seaborn: "
   ]
  },
  {
   "cell_type": "code",
   "execution_count": 29,
   "metadata": {
    "scrolled": false
   },
   "outputs": [
    {
     "data": {
      "image/png": "[encoded data removed]",
      "text/plain": [
       "<Figure size 576x432 with 2 Axes>"
      ]
     },
     "metadata": {
      "needs_background": "light"
     },
     "output_type": "display_data"
    }
   ],
   "source": [
    "cnf_matrix = confusion_matrix(y_hat_test, y_test)\n",
    "\n",
    "plt.figure(figsize=(8,6))\n",
    "sns.heatmap(cnf_matrix, annot=True, fmt='d', cmap= 'Blues', linewidths=10, )\n",
    "plt.title('Confusion Matrix', size= 15)\n",
    "plt.xlabel('Predicted Classes', size = 13)\n",
    "plt.ylabel('Actual Classes', size = 13);"
   ]
  },
  {
   "cell_type": "markdown",
   "metadata": {},
   "source": [
    "#### Notes on Initial Model Results"
   ]
  },
  {
   "cell_type": "markdown",
   "metadata": {},
   "source": [
    "------------------------------------------------------------------------------------------------------------------\n",
    "#### Rebalancing\n",
    "\n",
    "During the EDA phase, we saw how our target feature was imbalanced. These imbalances can give us false confidence in some of our model evaluation metrics. To solve for this, we'll rebalance the data set using the SMOTE method: "
   ]
  },
  {
   "cell_type": "markdown",
   "metadata": {
    "cell_style": "center"
   },
   "source": [
    "------------------------------------------------------------------------------------------------------------------\n",
    "\n",
    "#### Feature Engineering"
   ]
  },
  {
   "cell_type": "markdown",
   "metadata": {},
   "source": [
    "------------------------------------------------------------------------------------------------------------------\n",
    "#### Hyperparameter Tuning\n",
    "\n",
    "Now that we have solved for collinearity, baseline model fitted, the data has been normalized and rebalanced, and the most significant features identified, it's time to run the grid search to identify some suggested hyperparamaters for the remaining model iterations. We'll run our grid search using GridsearchCV package available with sklearn:"
   ]
  },
  {
   "cell_type": "code",
   "execution_count": 38,
   "metadata": {
    "scrolled": false
   },
   "outputs": [
    {
     "name": "stdout",
     "output_type": "stream",
     "text": [
      "Tuned Hyperparameters:  {'C': 0.001, 'class_weight': None, 'fit_intercept': 'True', 'penalty': 'l1'}\n",
      "Accuracy:  0.8375412293853074\n"
     ]
    }
   ],
   "source": [
    "x_train, x_test, y_train, y_test = train_test_split(scaled_feats, scaled_target, test_size = .20)\n",
    "\n",
    "grid = {\"C\":np.logspace(-3,3,7), \"penalty\":[\"l1\",\"l2\"], 'fit_intercept':['True', 'False'], \n",
    "        'class_weight': ['balanced', None]}\n",
    "\n",
    "logreg = LogisticRegression(random_state=15)\n",
    "logreg_cv = GridSearchCV(logreg,grid, cv=3)\n",
    "logreg_cv.fit(x_train, y_train)\n",
    "\n",
    "print(\"Tuned Hyperparameters: \",logreg_cv.best_params_)\n",
    "print(\"Accuracy: \",logreg_cv.best_score_)"
   ]
  },
  {
   "cell_type": "markdown",
   "metadata": {},
   "source": [
    " ------------------------------------------------------------------------------------------------------------------\n",
    "\n",
    "#### Cost Benefit: Financial Implications\n",
    "\n",
    "Before moving on with further model iterations, we'll take a step back and assess the financial implications for our logistic regression predictions with respect to the use case at Amazon Inc. Each model prediction will have an impact on Amazon's revenue. Let's break down the financial impact of these predictions:\n",
    "\n",
    "- *True Negative:* **Cost** = ~125 dollars\n",
    "    - Amazon will lose out on 125 dollars of revenue if a shopper does not make a purchase and is not offered the 10 percent discount.\n",
    "- *False Positive:* **Cost** = ~237.5 dollars\n",
    "    - Amazon will lose ~112.5 dollars in lost revenue if our model predicts a shopper will transact, but instead they do not. In this case, the model will instruct the website not to offer a 10 percent discount, thus lost opportunity to entice revenue from a potential sale is: 125 - discount of 12.5 = -112.5 dollars\n",
    "    - Further, we'll factor in an additional revenue penalty that accounts for the portion of first time shoppers that do not transact. In this scenario, first time shoppers will not experience the seamless experience of shopping at Amazon and will be less likely to be repeat shoppers. This additional revenue penalty will equal 125 dollars in lost potential future revenue.\n",
    "- *False Negative:* **Benefit** = ~112.5 dollars\n",
    "    - Amazon will earn ~112.5 dollars in revenue if the model predicts a shopper will not transact, thus a 10 percent discount is offered, and the shopper makes the purchase: 125 - 12.5 percent discount = 112.5 dollars. \n",
    "- *True Positive:* **Benefit** = 200 dollars\n",
    "     - Amazon will earn 125 dollars in revenue if our model correctly predicts a shoppers propensity to transact, thus no offer is made.\n",
    "     - Further, additional revenue has been added to account for repeat shoppers. Visitors who experience shopping at Amazon are inclined to be repeat shoppers. Thus, additional revenue benefit of 75 dollars has been factored in.\n",
    "     \n",
    "*Key Assumptions:*\n",
    "- *Figures are based on one shopping session*\n",
    "- *Avg. shopping session purchase = ~125 dollars*\n",
    "- *Avg. discount to entice shoppers to transact = ~10 percent*\n",
    "\n",
    "\n",
    "***Target Metric: Precision***\n",
    "- Based upon the financial impact analysis above, it's important going forward to build a model that limits Type I errors. Thus, we want a model that reflects high precision which limits the costs associated with false positive predictions. \n",
    "\n",
    "With these figures in mind, let's assign the appropriate cost/benefit revenue figures for each of the predictions our ensuing model iterations will produce:"
   ]
  },
  {
   "cell_type": "code",
   "execution_count": 268,
   "metadata": {},
   "outputs": [],
   "source": [
    "TN = -125\n",
    "FP = -237.5\n",
    "FN = 112.5\n",
    "TP = 200"
   ]
  },
  {
   "cell_type": "markdown",
   "metadata": {},
   "source": [
    "------------------------------------------------------------------------------------------------------------------\n",
    "\n",
    "#### Model Iterations\n",
    "\n",
    "Now that have our suggested hyperparameters, let's iterate on a number of models to find the best parameters and features for optimizing precision.\n",
    "\n",
    "We'll start here by defining a function that takes in the logreg variable with the desired parameters and returns the needed cost/benefit figures along with the precision score and confusion matrix. We'll use this function for our model iterations"
   ]
  },
  {
   "cell_type": "code",
   "execution_count": 269,
   "metadata": {},
   "outputs": [],
   "source": [
    "def model(logreg):\n",
    "    model_log = logreg.fit(x_train, y_train)\n",
    "\n",
    "    y_hat_test = logreg.predict(x_test)\n",
    "    y_hat_train = logreg.predict(x_train)\n",
    "    y_test_score = logreg.decision_function(x_test)\n",
    "    y_train_score = logreg.decision_function(x_train)\n",
    "\n",
    "    test_fpr, test_tpr, test_thresholds = roc_curve(y_test, y_test_score)\n",
    "    train_fpr, train_tpr, train_thresholds = roc_curve(y_train, y_train_score)\n",
    "    \n",
    "    print('Models Test Data Precision: {}'.format(precision_score(y_test, y_hat_test).round(3))) \n",
    "    \n",
    "    print('Train Data AUC: {}'.format(auc(train_fpr, train_tpr).round(3)))\n",
    "    print('Test Data AUC: {}'.format(auc(test_fpr, test_tpr).round(3)))\n",
    "    \n",
    "    cnf_matrix = confusion_matrix(y_test, y_hat_test)\n",
    "   \n",
    "    tn_cost = ((cnf_matrix[0][0] / len(y_test)) * TN)\n",
    "    fp_cost = ((cnf_matrix[0][1]/len(y_test)) * FP)\n",
    "    fn_ben = ((cnf_matrix[1][0]/len(y_test)) * FN)\n",
    "    tp_ben = ((cnf_matrix[1][1]/len(y_test)) * TP)\n",
    "    \n",
    "    print()\n",
    "    print('Cost/Benefit = {} Dollars Per Shopping Session'.format((tn_cost+fp_cost+fn_ben+tp_ben).round(2)))\n",
    "    print()\n",
    "    \n",
    "    plt.figure(figsize=(8,6))\n",
    "    sns.heatmap(cnf_matrix, annot=True, fmt='d', cmap= 'Blues', linewidths=10)\n",
    "    plt.title('Confusion Matrix', size= 15)\n",
    "    plt.xlabel('Predicted Classes', size = 13)\n",
    "    plt.ylabel('Actual Classes', size = 13);\n",
    "    \n",
    "    print()\n",
    "    \n",
    "    plt.figure(figsize=(8,6))\n",
    "    plt.plot(test_fpr, test_tpr, color = 'blue', lw = 2, label ='Test ROC curve')\n",
    "    plt.plot(train_fpr, train_tpr, color = 'grey', lw = 2, label ='Train ROC curve')\n",
    "\n",
    "    plt.plot([0, 1], [0, 1], color='navy', lw=1, linestyle='--')\n",
    "    plt.xlim([0.0, 1.0])\n",
    "    plt.ylim([0.0, 1.05])\n",
    "    plt.yticks([i/20.0 for i in range(21)])\n",
    "    plt.xticks([i/20.0 for i in range(21)])\n",
    "\n",
    "    plt.xlabel('False Positive Rate', size = 12)\n",
    "    plt.ylabel('True Positive Rate', size = 12)\n",
    "    plt.title('Receiver operating characteristic (ROC) Curve', size = 14)\n",
    "    plt.legend(loc=\"lower right\");\n",
    "    "
   ]
  },
  {
   "cell_type": "markdown",
   "metadata": {},
   "source": [
    "Next, we'll remove all features from the scaled_feats data set beside 'PageValues','Administrative', 'ProductRelated', 'BounceRates' for running the next iteration of models:"
   ]
  },
  {
   "cell_type": "code",
   "execution_count": 270,
   "metadata": {},
   "outputs": [],
   "source": [
    "scaled_feats = scaled_feats[['PageValues', 'Administrative', 'ProductRelated', 'BounceRates']]"
   ]
  },
  {
   "cell_type": "markdown",
   "metadata": {},
   "source": [
    "We'll split a new training and testing set with the remaining features and our target:"
   ]
  },
  {
   "cell_type": "code",
   "execution_count": 271,
   "metadata": {},
   "outputs": [],
   "source": [
    "x_train, x_test, y_train, y_test = train_test_split(scaled_feats, scaled_target, test_size = .20)"
   ]
  },
  {
   "cell_type": "markdown",
   "metadata": {},
   "source": [
    "***Model 1***\n",
    "- Suggested hyperparameters from grid search\n",
    "- Four features deemed significant based on high coefficients and correlation with the target variable"
   ]
  },
  {
   "cell_type": "markdown",
   "metadata": {},
   "source": [
    "Let's instantiate the Logistic Regression method with the appropriate parameters:"
   ]
  },
  {
   "cell_type": "code",
   "execution_count": 272,
   "metadata": {},
   "outputs": [],
   "source": [
    "logreg = LogisticRegression(penalty = 'l1', class_weight = 'balanced', fit_intercept = True, C = .001)"
   ]
  },
  {
   "cell_type": "markdown",
   "metadata": {},
   "source": [
    "And run our first model:"
   ]
  },
  {
   "cell_type": "code",
   "execution_count": 273,
   "metadata": {
    "scrolled": false
   },
   "outputs": [
    {
     "name": "stdout",
     "output_type": "stream",
     "text": [
      "Models Test Data Precision: 0.887\n",
      "Train Data AUC: 0.906\n",
      "Test Data AUC: 0.909\n",
      "\n",
      "Cost/Benefit = 23.57 Dollars Per Shopping Session\n",
      "\n",
      "\n"
     ]
    },
    {
     "data": {
      "image/png": "[encoded data removed]",
      "text/plain": [
       "<Figure size 576x432 with 2 Axes>"
      ]
     },
     "metadata": {},
     "output_type": "display_data"
    },
    {
     "data": {
      "image/png": "[encoded data removed]",
      "text/plain": [
       "<Figure size 576x432 with 1 Axes>"
      ]
     },
     "metadata": {},
     "output_type": "display_data"
    }
   ],
   "source": [
    "model(logreg)"
   ]
  },
  {
   "cell_type": "markdown",
   "metadata": {},
   "source": [
    "***Model 2***\n",
    "- Hyperparameters we've chosen ourselves\n",
    "- Four features deemed significant based on high coefficients and correlation with the target variable"
   ]
  },
  {
   "cell_type": "code",
   "execution_count": 274,
   "metadata": {},
   "outputs": [],
   "source": [
    "logreg = LogisticRegression(penalty = 'l2', fit_intercept = True, C = .001, max_iter = 100, tol = 0.0001)"
   ]
  },
  {
   "cell_type": "code",
   "execution_count": 275,
   "metadata": {},
   "outputs": [
    {
     "name": "stdout",
     "output_type": "stream",
     "text": [
      "Models Test Data Precision: 0.871\n",
      "Train Data AUC: 0.896\n",
      "Test Data AUC: 0.9\n",
      "\n",
      "Cost/Benefit = 21.5 Dollars Per Shopping Session\n",
      "\n",
      "\n"
     ]
    },
    {
     "data": {
      "image/png": "[encoded data removed]",
      "text/plain": [
       "<Figure size 576x432 with 2 Axes>"
      ]
     },
     "metadata": {},
     "output_type": "display_data"
    },
    {
     "data": {
      "image/png": "[encoded data removed]",
      "text/plain": [
       "<Figure size 576x432 with 1 Axes>"
      ]
     },
     "metadata": {},
     "output_type": "display_data"
    }
   ],
   "source": [
    "model(logreg)"
   ]
  },
  {
   "cell_type": "markdown",
   "metadata": {},
   "source": [
    "***Model 3***\n",
    "- Hyperparameters suggested by the grid search\n",
    "- One feature suggested by the RFECV function and coefficients"
   ]
  },
  {
   "cell_type": "markdown",
   "metadata": {},
   "source": [
    "We'll start here by removing all features beside 'PageValues' and generating another train_test_split with our single feature for running the final models:"
   ]
  },
  {
   "cell_type": "code",
   "execution_count": 276,
   "metadata": {},
   "outputs": [],
   "source": [
    "scaled_feats = scaled_feats[['PageValues']]"
   ]
  },
  {
   "cell_type": "code",
   "execution_count": 277,
   "metadata": {},
   "outputs": [],
   "source": [
    "x_train, x_test, y_train, y_test = train_test_split(scaled_feats, scaled_target, test_size = .20)"
   ]
  },
  {
   "cell_type": "markdown",
   "metadata": {},
   "source": [
    "Instantiate a new Logistic Regression method with differing parameters and assign it to logreg variable:"
   ]
  },
  {
   "cell_type": "code",
   "execution_count": 278,
   "metadata": {},
   "outputs": [],
   "source": [
    "logreg = LogisticRegression(penalty = 'l1', class_weight = 'balanced', fit_intercept = True, C = .001)"
   ]
  },
  {
   "cell_type": "code",
   "execution_count": 279,
   "metadata": {},
   "outputs": [
    {
     "name": "stdout",
     "output_type": "stream",
     "text": [
      "Models Test Data Precision: 0.91\n",
      "Train Data AUC: 0.899\n",
      "Test Data AUC: 0.897\n",
      "\n",
      "Cost/Benefit = 23.89 Dollars Per Shopping Session\n",
      "\n",
      "\n"
     ]
    },
    {
     "data": {
      "image/png": "[encoded data removed]",
      "text/plain": [
       "<Figure size 576x432 with 2 Axes>"
      ]
     },
     "metadata": {},
     "output_type": "display_data"
    },
    {
     "data": {
      "image/png": "[encoded data removed]",
      "text/plain": [
       "<Figure size 576x432 with 1 Axes>"
      ]
     },
     "metadata": {},
     "output_type": "display_data"
    }
   ],
   "source": [
    "model(logreg)"
   ]
  },
  {
   "cell_type": "markdown",
   "metadata": {},
   "source": [
    "***Model 4***\n",
    "- Hyperparameters we've chosen ourselves\n",
    "- One feature suggested by the RFECV function and coefficients"
   ]
  },
  {
   "cell_type": "code",
   "execution_count": 280,
   "metadata": {},
   "outputs": [],
   "source": [
    "logreg = LogisticRegression(penalty = 'l2', fit_intercept = True, C = .001, max_iter = 100, tol = 0.0001)"
   ]
  },
  {
   "cell_type": "code",
   "execution_count": 281,
   "metadata": {},
   "outputs": [
    {
     "name": "stdout",
     "output_type": "stream",
     "text": [
      "Models Test Data Precision: 0.921\n",
      "Train Data AUC: 0.899\n",
      "Test Data AUC: 0.897\n",
      "\n",
      "Cost/Benefit = 20.9 Dollars Per Shopping Session\n",
      "\n",
      "\n"
     ]
    },
    {
     "data": {
      "image/png": "[encoded data removed]",
      "text/plain": [
       "<Figure size 576x432 with 2 Axes>"
      ]
     },
     "metadata": {},
     "output_type": "display_data"
    },
    {
     "data": {
      "image/png": "[encoded data removed]",
      "text/plain": [
       "<Figure size 576x432 with 1 Axes>"
      ]
     },
     "metadata": {},
     "output_type": "display_data"
    }
   ],
   "source": [
    "model(logreg)"
   ]
  },
  {
   "cell_type": "markdown",
   "metadata": {},
   "source": [
    "------------------------------------------------------------------------------------------------------------------\n",
    "\n",
    "#### Final Model"
   ]
  },
  {
   "cell_type": "markdown",
   "metadata": {},
   "source": []
  },
  {
   "cell_type": "markdown",
   "metadata": {},
   "source": [
    "------------------------------------------------------------------------------------------------------------------\n",
    "\n",
    "## Cost Benefit Analysis Result <a id='costbenefitanalysis'></a>\n",
    "\n",
    "[Back to top](#top)"
   ]
  },
  {
   "cell_type": "markdown",
   "metadata": {},
   "source": []
  },
  {
   "cell_type": "markdown",
   "metadata": {},
   "source": [
    "------------------------------------------------------------------------------------------------------------------\n",
    "## Conclusion <a id='conclusion'></a>\n",
    "\n",
    "[Back to top](#top)"
   ]
  },
  {
   "cell_type": "markdown",
   "metadata": {},
   "source": [
    "**Question:** xx\n",
    "\n",
    "**Answer:** xx"
   ]
  },
  {
   "cell_type": "markdown",
   "metadata": {},
   "source": [
    "------------------------------------------------------------------------------------------------------------------\n",
    "## Recommendations <a id='recommendation'></a>\n",
    "\n",
    "[Back to top](#top)"
   ]
  },
  {
   "cell_type": "markdown",
   "metadata": {},
   "source": []
  },
  {
   "cell_type": "markdown",
   "metadata": {},
   "source": [
    "------------------------------------------------------------------------------------------------------------------\n",
    "## Future Work <a id='futurework'></a>\n",
    "\n",
    "[Back to top](#top)"
   ]
  },
  {
   "cell_type": "markdown",
   "metadata": {},
   "source": []
  },
  {
   "cell_type": "markdown",
   "metadata": {},
   "source": [
    "    "
   ]
  }
 ],
 "metadata": {
  "kernelspec": {
   "display_name": "Python 3",
   "language": "python",
   "name": "python3"
  },
  "language_info": {
   "codemirror_mode": {
    "name": "ipython",
    "version": 3
   },
   "file_extension": ".py",
   "mimetype": "text/x-python",
   "name": "python",
   "nbconvert_exporter": "python",
   "pygments_lexer": "ipython3",
   "version": "3.6.6"
  },
  "varInspector": {
   "cols": {
    "lenName": 16,
    "lenType": 16,
    "lenVar": 40
   },
   "kernels_config": {
    "python": {
     "delete_cmd_postfix": "",
     "delete_cmd_prefix": "del ",
     "library": "var_list.py",
     "varRefreshCmd": "print(var_dic_list())"
    },
    "r": {
     "delete_cmd_postfix": ") ",
     "delete_cmd_prefix": "rm(",
     "library": "var_list.r",
     "varRefreshCmd": "cat(var_dic_list()) "
    }
   },
   "position": {
    "height": "400.208px",
    "left": "1156.44px",
    "right": "20px",
    "top": "50px",
    "width": "350px"
   },
   "types_to_exclude": [
    "module",
    "function",
    "builtin_function_or_method",
    "instance",
    "_Feature"
   ],
   "window_display": false
  }
 },
 "nbformat": 4,
 "nbformat_minor": 2
}
